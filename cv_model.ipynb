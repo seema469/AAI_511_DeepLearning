{
 "cells": [
  {
   "cell_type": "markdown",
   "metadata": {},
   "source": [
    "# CV Model"
   ]
  },
  {
   "cell_type": "code",
   "execution_count": 19,
   "metadata": {},
   "outputs": [],
   "source": [
    "# Import required libraries\n",
    "import tensorflow as tf\n",
    "import os\n",
    "import pretty_midi\n",
    "import librosa\n",
    "import librosa.display\n",
    "import matplotlib.pyplot as plt\n",
    "import pandas as pd\n",
    "import numpy as np\n",
    "from sklearn.model_selection import train_test_split\n",
    "from imblearn.over_sampling import SMOTE\n",
    "from PIL import Image\n",
    "from sklearn.metrics import classification_report\n",
    "from sklearn.metrics import confusion_matrix\n",
    "import seaborn as sns\n",
    "from sklearn.utils.class_weight import compute_class_weight\n",
    "from sklearn.utils import resample\n",
    "\n",
    "\n",
    "\n",
    "pd.set_option('display.max_rows', 500)"
   ]
  },
  {
   "cell_type": "code",
   "execution_count": 20,
   "metadata": {},
   "outputs": [
    {
     "name": "stdout",
     "output_type": "stream",
     "text": [
      "Number of files skipped due to error: 0\n",
      "Skipping file .//data\\Beethoven\\Anhang 14-3.mid due to an error: Could not decode key with 3 flats and mode 255\n",
      "Number of files skipped due to error: 1\n",
      "Number of files skipped due to error: 1\n"
     ]
    },
    {
     "name": "stderr",
     "output_type": "stream",
     "text": [
      "c:\\Users\\kflin\\AppData\\Local\\Programs\\Python\\Python311\\Lib\\site-packages\\pretty_midi\\pretty_midi.py:100: RuntimeWarning: Tempo, Key or Time signature change events found on non-zero tracks.  This is not a valid type 0 or type 1 MIDI file.  Tempo, Key or Time Signature may be wrong.\n",
      "  warnings.warn(\n"
     ]
    },
    {
     "name": "stdout",
     "output_type": "stream",
     "text": [
      "Number of files skipped due to error: 1\n"
     ]
    }
   ],
   "source": [
    "# Define globals\n",
    "data_directory = './/data'  #dataset path\n",
    "fs = 5  # Sampling frequency for piano rolls\n",
    "labeled_midi_data = {}\n",
    "\n",
    "def load_midi_data_and_labels(directory):\n",
    "    skipped_files = []    # Keep track of skipped files due to errors\n",
    "    data = []\n",
    "    composers = []\n",
    "    num_composer_map = {}\n",
    "    # Function to recursively iterate files in a directory\n",
    "    def iterate_dir(dir_path, label, composer):        \n",
    "        # Check direct .mid files in current directory\n",
    "        for item in os.listdir(dir_path):\n",
    "            item_path = os.path.join(dir_path, item)\n",
    "            if os.path.isfile(item_path) and item_path.endswith('.mid'):\n",
    "                try:\n",
    "                    # Load the MIDI file\n",
    "                    midi_data = pretty_midi.PrettyMIDI(item_path)\n",
    "                    data.append(midi_data)\n",
    "                    composers.append(label)\n",
    "                    if label not in labeled_midi_data:\n",
    "                        labeled_midi_data[label] = []\n",
    "                    labeled_midi_data[label].append(midi_data)\n",
    "\n",
    "                except Exception as e:  # Catch any exception that might be raised\n",
    "                    print(f\"Skipping file {item_path} due to an error: {e}\")\n",
    "                    skipped_files.append(item_path)\n",
    "            elif os.path.isdir(item_path):\n",
    "                iterate_dir(item_path, label, composer)\n",
    "        print(f\"Number of files skipped due to error: {len(skipped_files)}\")\n",
    "        return\n",
    "\n",
    "    # Process each composer's directory in the root directory\n",
    "    for label, composer in enumerate(sorted(os.listdir(directory))):\n",
    "        composer_path = os.path.join(directory, composer)\n",
    "        if os.path.isdir(composer_path):\n",
    "            num_composer_map[label] = composer\n",
    "            iterate_dir(composer_path, label, composer)\n",
    "\n",
    "    return np.array(data), np.array(composers), num_composer_map\n",
    "\n",
    "_, _, num_composer_map = load_midi_data_and_labels(data_directory)"
   ]
  },
  {
   "cell_type": "code",
   "execution_count": 21,
   "metadata": {},
   "outputs": [
    {
     "name": "stdout",
     "output_type": "stream",
     "text": [
      "{0: [<pretty_midi.pretty_midi.PrettyMIDI object at 0x000002485210E8D0>, <pretty_midi.pretty_midi.PrettyMIDI object at 0x0000024921A172D0>, <pretty_midi.pretty_midi.PrettyMIDI object at 0x0000024846B50150>, <pretty_midi.pretty_midi.PrettyMIDI object at 0x0000024925C38110>, <pretty_midi.pretty_midi.PrettyMIDI object at 0x00000248470FC090>, <pretty_midi.pretty_midi.PrettyMIDI object at 0x0000024844868150>, <pretty_midi.pretty_midi.PrettyMIDI object at 0x000002484413C090>, <pretty_midi.pretty_midi.PrettyMIDI object at 0x0000024846F74290>, <pretty_midi.pretty_midi.PrettyMIDI object at 0x000002484694C090>, <pretty_midi.pretty_midi.PrettyMIDI object at 0x0000024921A83390>], 1: [<pretty_midi.pretty_midi.PrettyMIDI object at 0x00000248468B0210>, <pretty_midi.pretty_midi.PrettyMIDI object at 0x0000024845578CD0>, <pretty_midi.pretty_midi.PrettyMIDI object at 0x0000024845578C50>, <pretty_midi.pretty_midi.PrettyMIDI object at 0x00000248442CF1D0>, <pretty_midi.pretty_midi.PrettyMIDI object at 0x0000024921A5A350>, <pretty_midi.pretty_midi.PrettyMIDI object at 0x0000024849B23C90>, <pretty_midi.pretty_midi.PrettyMIDI object at 0x0000024844100110>, <pretty_midi.pretty_midi.PrettyMIDI object at 0x0000024849D94650>, <pretty_midi.pretty_midi.PrettyMIDI object at 0x0000024885AF4650>], 2: [<pretty_midi.pretty_midi.PrettyMIDI object at 0x0000024885AF47D0>, <pretty_midi.pretty_midi.PrettyMIDI object at 0x00000248442EBF90>, <pretty_midi.pretty_midi.PrettyMIDI object at 0x0000024885CC9AD0>, <pretty_midi.pretty_midi.PrettyMIDI object at 0x000002491E6063D0>, <pretty_midi.pretty_midi.PrettyMIDI object at 0x00000248441D8110>, <pretty_midi.pretty_midi.PrettyMIDI object at 0x000002491E5AE450>, <pretty_midi.pretty_midi.PrettyMIDI object at 0x0000024925C3FE50>, <pretty_midi.pretty_midi.PrettyMIDI object at 0x000002492196BF50>, <pretty_midi.pretty_midi.PrettyMIDI object at 0x0000024844201950>, <pretty_midi.pretty_midi.PrettyMIDI object at 0x00000248450B2210>], 3: [<pretty_midi.pretty_midi.PrettyMIDI object at 0x000002484511FC50>, <pretty_midi.pretty_midi.PrettyMIDI object at 0x0000024846CB9350>, <pretty_midi.pretty_midi.PrettyMIDI object at 0x00000248936CFD50>, <pretty_midi.pretty_midi.PrettyMIDI object at 0x0000024846CB9310>, <pretty_midi.pretty_midi.PrettyMIDI object at 0x00000248442FA990>, <pretty_midi.pretty_midi.PrettyMIDI object at 0x0000024844CAC350>, <pretty_midi.pretty_midi.PrettyMIDI object at 0x0000024885AF4710>, <pretty_midi.pretty_midi.PrettyMIDI object at 0x0000024882372C10>, <pretty_midi.pretty_midi.PrettyMIDI object at 0x0000024845E10290>, <pretty_midi.pretty_midi.PrettyMIDI object at 0x0000024858023590>, <pretty_midi.pretty_midi.PrettyMIDI object at 0x000002492420EF50>]}\n"
     ]
    }
   ],
   "source": [
    "print(labeled_midi_data)"
   ]
  },
  {
   "cell_type": "code",
   "execution_count": 22,
   "metadata": {},
   "outputs": [],
   "source": [
    "# SongData object. Contains the composer name, the composer id, the midi data, the piano roll, and the windows of the piano roll\n",
    "class Song:\n",
    "    def __init__(self, composer, composer_id, midi_data):\n",
    "        self.composer = composer\n",
    "        self.composer_id = composer_id\n",
    "        self.midi_data = midi_data\n",
    "        self.piano_roll = self.create_piano_roll()\n",
    "        self.windows = self.create_windows()\n",
    "        self.windows_with_augmentation = self.create_windows_with_augmentation()\n",
    "\n",
    "    def create_piano_roll(self):\n",
    "        piano_roll = self.midi_data.get_piano_roll(fs=fs)\n",
    "        return piano_roll\n",
    "\n",
    "    def augment_data(self):\n",
    "        augmented_piano_rolls = []\n",
    "        # Shift the piano roll up and down\n",
    "        for i in range(-5,5):\n",
    "            augmented_piano_rolls.append(np.roll(self.piano_roll, i, axis=0))\n",
    "\n",
    "        # Add noise to the piano roll\n",
    "        augmented_piano_rolls.append(self.piano_roll + np.random.normal(0, 0.1, self.piano_roll.shape))\n",
    "\n",
    "        return augmented_piano_rolls\n",
    "\n",
    "    def create_windows(self, window_size=128, stride=128):\n",
    "        piano_roll_tensor = tf.convert_to_tensor(self.piano_roll)\n",
    "        width = piano_roll_tensor.shape[1]\n",
    "        starts = tf.range(0, width - window_size, stride)\n",
    "        windows = tf.stack([piano_roll_tensor[:, start:start + window_size] for start in starts], axis=0)\n",
    "        return windows\n",
    "    \n",
    "    def create_windows_with_augmentation(self, window_size=128, stride=128):\n",
    "        augmented_piano_rolls = self.augment_data()\n",
    "        windows = []\n",
    "        for piano_roll in augmented_piano_rolls:\n",
    "            piano_roll_tensor = tf.convert_to_tensor(piano_roll)\n",
    "            width = piano_roll_tensor.shape[1]\n",
    "            starts = tf.range(0, width - window_size, stride)\n",
    "            windows.extend([piano_roll_tensor[:, start:start + window_size] for start in starts])\n",
    "        return windows\n",
    "    \n",
    "    def print_piano_roll(self):\n",
    "        plt.figure(figsize=(12, 6))\n",
    "        plt.imshow(self.piano_roll, origin='lower', aspect='auto', cmap='gray')\n",
    "        plt.xlabel('Time (seconds)')\n",
    "        plt.ylabel('Pitch')\n",
    "        plt.title('Piano Roll Representation of MIDI File')\n",
    "        plt.show()\n",
    "\n",
    "    def print_info(self):\n",
    "        print(f\"Composer: {self.composer}\")\n",
    "        print(f\"Composer ID: {self.composer_id}\")\n",
    "        print(f\"Number of windows: {len(self.windows)}\")\n",
    "        print(f\"Window shape: {self.windows[0].shape}\")"
   ]
  },
  {
   "cell_type": "code",
   "execution_count": 23,
   "metadata": {},
   "outputs": [
    {
     "name": "stdout",
     "output_type": "stream",
     "text": [
      "40\n"
     ]
    }
   ],
   "source": [
    "songs = []\n",
    "for composer_id, composer in labeled_midi_data.items():\n",
    "    for midi_data in composer:\n",
    "        song = Song(num_composer_map[composer_id], composer_id, midi_data)\n",
    "        songs.append(song)\n",
    "        #song.print_info()\n",
    "\n",
    "print(len(songs))"
   ]
  },
  {
   "cell_type": "code",
   "execution_count": 24,
   "metadata": {},
   "outputs": [
    {
     "name": "stdout",
     "output_type": "stream",
     "text": [
      "Training songs per composer{0: 8, 1: 7, 2: 8, 3: 9}\n",
      "Testing songs per composer{0: 2, 1: 2, 2: 2, 3: 2}\n",
      "Training windows shape: (3784, 128, 128)\n",
      "Training labels shape: (3784,)\n",
      "Distinct Training Samples {0: 2189, 1: 396, 2: 528, 3: 671}\n",
      "Testing windows shape: (1353, 128, 128)\n",
      "Testing labels shape: (1353,)\n",
      "Distinct Training Samples {0: 682, 1: 242, 2: 88, 3: 341}\n",
      "tf.Tensor([0 0 0 ... 3 3 3], shape=(3784,), dtype=int32)\n"
     ]
    }
   ],
   "source": [
    "# train test split\n",
    "\n",
    "train_songs = {}\n",
    "test_songs = {}\n",
    "\n",
    "for song in songs:\n",
    "    if song.composer_id not in test_songs:\n",
    "        test_songs[song.composer_id] = []\n",
    "    if len(test_songs[song.composer_id]) < 2:\n",
    "        test_songs[song.composer_id].append(song)\n",
    "    else:\n",
    "        if song.composer_id not in train_songs:\n",
    "            train_songs[song.composer_id] = []\n",
    "        train_songs[song.composer_id].append(song)\n",
    "\n",
    "train_songs = [song for composer_songs in train_songs.values() for song in composer_songs]\n",
    "test_songs = [song for composer_songs in test_songs.values() for song in composer_songs]\n",
    "\n",
    "# print number of training and testing songs for each composer\n",
    "count_train = {}\n",
    "count_test = {}\n",
    "for song in train_songs:\n",
    "    if song.composer_id not in count_train:\n",
    "        count_train[song.composer_id] = 0\n",
    "    count_train[song.composer_id] += 1\n",
    "\n",
    "for song in test_songs:\n",
    "    if song.composer_id not in count_test:\n",
    "        count_test[song.composer_id] = 0\n",
    "    count_test[song.composer_id] += 1\n",
    "\n",
    "print(f\"Training songs per composer{count_train}\")\n",
    "print(f\"Testing songs per composer{count_test}\")\n",
    "\n",
    "# Create a dataset from the training songs\n",
    "train_windows = []\n",
    "train_labels = []\n",
    "\n",
    "for song in train_songs:\n",
    "    train_windows.extend(song.windows_with_augmentation)\n",
    "    train_labels.extend([song.composer_id] * len(song.windows_with_augmentation))\n",
    "\n",
    "train_windows = tf.stack(train_windows)\n",
    "train_labels = tf.convert_to_tensor(train_labels)\n",
    "\n",
    "print(f\"Training windows shape: {train_windows.shape}\")\n",
    "print(f\"Training labels shape: {train_labels.shape}\")\n",
    "unique, counts = np.unique(train_labels, return_counts=True)\n",
    "print(f\"Distinct Training Samples {dict(zip(unique, counts))}\")\n",
    "\n",
    "test_windows = []\n",
    "test_labels = []\n",
    "\n",
    "for song in test_songs:\n",
    "    test_windows.extend(song.windows_with_augmentation)\n",
    "    test_labels.extend([song.composer_id] * len(song.windows_with_augmentation))\n",
    "\n",
    "test_windows = tf.stack(test_windows)\n",
    "test_labels = tf.convert_to_tensor(test_labels)\n",
    "\n",
    "print(f\"Testing windows shape: {test_windows.shape}\")\n",
    "print(f\"Testing labels shape: {test_labels.shape}\")\n",
    "unique, counts = np.unique(test_labels, return_counts=True)\n",
    "print(f\"Distinct Training Samples {dict(zip(unique, counts))}\")\n",
    "\n",
    "print(train_labels)"
   ]
  },
  {
   "cell_type": "code",
   "execution_count": 25,
   "metadata": {},
   "outputs": [
    {
     "name": "stdout",
     "output_type": "stream",
     "text": [
      "Balanced training windows shape: (8756, 128, 128)\n",
      "Balanced training labels shape: (8756,)\n",
      "Distinct Balanced Training Samples {0: 2189, 1: 2189, 2: 2189, 3: 2189}\n"
     ]
    }
   ],
   "source": [
    "# Convert train_windows and train_labels to numpy arrays\n",
    "train_windows_np = train_windows.numpy()\n",
    "train_labels_np = train_labels.numpy()\n",
    "\n",
    "# SMOTE wants 2D input, need to flatten\n",
    "n_samples, n_timesteps, n_features = train_windows_np.shape\n",
    "train_windows_reshaped = train_windows_np.reshape((n_samples, -1))\n",
    "\n",
    "smote = SMOTE(random_state=42)\n",
    "train_windows_resampled, train_labels_resampled = smote.fit_resample(train_windows_reshaped, train_labels_np)\n",
    "\n",
    "# Reshape the resampled windows back to 3D\n",
    "train_windows_resampled = train_windows_resampled.reshape((-1, n_timesteps, n_features))\n",
    "\n",
    "# Convert back to tensors\n",
    "train_windows_balanced = tf.convert_to_tensor(train_windows_resampled)\n",
    "train_labels_balanced = tf.convert_to_tensor(train_labels_resampled)\n",
    "\n",
    "print(f\"Balanced training windows shape: {train_windows_balanced.shape}\")\n",
    "print(f\"Balanced training labels shape: {train_labels_balanced.shape}\")\n",
    "unique, counts = np.unique(train_labels_balanced, return_counts=True)\n",
    "print(f\"Distinct Balanced Training Samples {dict(zip(unique, counts))}\")"
   ]
  },
  {
   "cell_type": "code",
   "execution_count": 26,
   "metadata": {},
   "outputs": [
    {
     "name": "stderr",
     "output_type": "stream",
     "text": [
      "c:\\Users\\kflin\\AppData\\Local\\Programs\\Python\\Python311\\Lib\\site-packages\\keras\\src\\layers\\convolutional\\base_conv.py:107: UserWarning: Do not pass an `input_shape`/`input_dim` argument to a layer. When using Sequential models, prefer using an `Input(shape)` object as the first layer in the model instead.\n",
      "  super().__init__(activity_regularizer=activity_regularizer, **kwargs)\n"
     ]
    }
   ],
   "source": [
    "# create the model\n",
    "model = tf.keras.Sequential([\n",
    "    tf.keras.layers.Conv2D(64, (5, 5), activation='relu', input_shape=(128, 128, 1)),\n",
    "    tf.keras.layers.MaxPooling2D((2, 2)),\n",
    "    tf.keras.layers.Conv2D(128, (5, 5), activation='relu'),\n",
    "    tf.keras.layers.MaxPooling2D((2, 2)),\n",
    "    tf.keras.layers.Conv2D(128, (5, 5), activation='relu'),\n",
    "    tf.keras.layers.Flatten(),\n",
    "    tf.keras.layers.Dense(64, activation='relu'),\n",
    "    #tf.keras.layers.Dropout(.2),\n",
    "    tf.keras.layers.Dense(4, activation='softmax')\n",
    "])\n",
    "\n",
    "model.compile(optimizer='adam', loss='sparse_categorical_crossentropy', metrics=['accuracy'])"
   ]
  },
  {
   "cell_type": "code",
   "execution_count": 27,
   "metadata": {},
   "outputs": [
    {
     "name": "stdout",
     "output_type": "stream",
     "text": [
      "\u001b[1m119/119\u001b[0m \u001b[32m━━━━━━━━━━━━━━━━━━━━\u001b[0m\u001b[37m\u001b[0m \u001b[1m25s\u001b[0m 208ms/step - accuracy: 0.5955 - loss: 8.5181\n"
     ]
    },
    {
     "data": {
      "text/plain": [
       "<keras.src.callbacks.history.History at 0x24882aa2cd0>"
      ]
     },
     "execution_count": 27,
     "metadata": {},
     "output_type": "execute_result"
    }
   ],
   "source": [
    "# train the model\n",
    "train_windows = tf.expand_dims(train_windows, axis=-1)\n",
    "test_windows = tf.expand_dims(test_windows, axis=-1)\n",
    "\n",
    "#class_weights = compute_class_weight('balanced', classes=np.unique(train_labels), y=train_labels.numpy())\n",
    "#class_weight_dict = dict(enumerate(class_weights))\n",
    "\n",
    "model.fit(train_windows, train_labels, epochs=1) # validation_data=(test_windows, test_labels)"
   ]
  },
  {
   "cell_type": "code",
   "execution_count": 28,
   "metadata": {},
   "outputs": [
    {
     "name": "stdout",
     "output_type": "stream",
     "text": [
      "43/43 - 3s - 65ms/step - accuracy: 0.6024 - loss: 1.2549\n",
      "Test accuracy: 0.6023651361465454\n",
      "\u001b[1m43/43\u001b[0m \u001b[32m━━━━━━━━━━━━━━━━━━━━\u001b[0m\u001b[37m\u001b[0m \u001b[1m3s\u001b[0m 64ms/step\n"
     ]
    },
    {
     "data": {
      "image/png": "[encoded data removed]",
      "text/plain": [
       "<Figure size 1000x800 with 2 Axes>"
      ]
     },
     "metadata": {},
     "output_type": "display_data"
    }
   ],
   "source": [
    "# evaluate the model (on windows)\n",
    "test_loss, test_acc = model.evaluate(test_windows, test_labels, verbose=2)\n",
    "print('Test accuracy:', test_acc)\n",
    "\n",
    "# confusion matrix (on windows)\n",
    "predictions = model.predict(test_windows)\n",
    "predictions = np.argmax(predictions, axis=1)\n",
    "\n",
    "cm = confusion_matrix(test_labels, predictions, )\n",
    "cm_df = pd.DataFrame(cm, index=num_composer_map.values(), columns=num_composer_map.values())\n",
    "\n",
    "plt.figure(figsize=(10, 8))\n",
    "sns.heatmap(cm_df, annot=True, cmap='Blues', fmt='d')\n",
    "plt.xlabel('Predicted')\n",
    "plt.ylabel('Actual')\n",
    "plt.title('Confusion Matrix')\n",
    "plt.show()"
   ]
  },
  {
   "cell_type": "code",
   "execution_count": 29,
   "metadata": {},
   "outputs": [
    {
     "name": "stdout",
     "output_type": "stream",
     "text": [
      "\u001b[1m2/2\u001b[0m \u001b[32m━━━━━━━━━━━━━━━━━━━━\u001b[0m\u001b[37m\u001b[0m \u001b[1m0s\u001b[0m 8ms/step \n",
      "\u001b[1m1/1\u001b[0m \u001b[32m━━━━━━━━━━━━━━━━━━━━\u001b[0m\u001b[37m\u001b[0m \u001b[1m0s\u001b[0m 68ms/step\n",
      "\u001b[1m1/1\u001b[0m \u001b[32m━━━━━━━━━━━━━━━━━━━━\u001b[0m\u001b[37m\u001b[0m \u001b[1m0s\u001b[0m 29ms/step\n",
      "\u001b[1m1/1\u001b[0m \u001b[32m━━━━━━━━━━━━━━━━━━━━\u001b[0m\u001b[37m\u001b[0m \u001b[1m0s\u001b[0m 40ms/step\n",
      "\u001b[1m1/1\u001b[0m \u001b[32m━━━━━━━━━━━━━━━━━━━━\u001b[0m\u001b[37m\u001b[0m \u001b[1m0s\u001b[0m 22ms/step\n",
      "\u001b[1m1/1\u001b[0m \u001b[32m━━━━━━━━━━━━━━━━━━━━\u001b[0m\u001b[37m\u001b[0m \u001b[1m0s\u001b[0m 19ms/step\n",
      "\u001b[1m1/1\u001b[0m \u001b[32m━━━━━━━━━━━━━━━━━━━━\u001b[0m\u001b[37m\u001b[0m \u001b[1m0s\u001b[0m 24ms/step\n",
      "\u001b[1m1/1\u001b[0m \u001b[32m━━━━━━━━━━━━━━━━━━━━\u001b[0m\u001b[37m\u001b[0m \u001b[1m0s\u001b[0m 66ms/step\n",
      "              precision    recall  f1-score   support\n",
      "\n",
      "        Bach       0.40      1.00      0.57         2\n",
      "   Beethoven       1.00      0.50      0.67         2\n",
      "      Chopin       1.00      0.50      0.67         2\n",
      "      Mozart       1.00      0.50      0.67         2\n",
      "\n",
      "    accuracy                           0.62         8\n",
      "   macro avg       0.85      0.62      0.64         8\n",
      "weighted avg       0.85      0.62      0.64         8\n",
      "\n"
     ]
    }
   ],
   "source": [
    "def predict_song(model, song_windows):\n",
    "    song_windows = tf.expand_dims(song_windows, axis=-1)\n",
    "    window_predictions = model.predict(song_windows)\n",
    "    summed_predictions = np.sum(window_predictions, axis=0)\n",
    "    predicted_composer_id = np.argmax(summed_predictions)\n",
    "    return predicted_composer_id\n",
    "\n",
    "song_predictions = []\n",
    "song_true_labels = []\n",
    "\n",
    "for song in test_songs:\n",
    "    predicted_composer_id = predict_song(model, song.windows)\n",
    "    song_predictions.append(predicted_composer_id)\n",
    "    song_true_labels.append(song.composer_id)\n",
    "\n",
    "print(classification_report(song_true_labels, song_predictions, target_names=num_composer_map.values()))"
   ]
  }
 ],
 "metadata": {
  "kernelspec": {
   "display_name": "Python 3",
   "language": "python",
   "name": "python3"
  },
  "language_info": {
   "codemirror_mode": {
    "name": "ipython",
    "version": 3
   },
   "file_extension": ".py",
   "mimetype": "text/x-python",
   "name": "python",
   "nbconvert_exporter": "python",
   "pygments_lexer": "ipython3",
   "version": "3.11.9"
  }
 },
 "nbformat": 4,
 "nbformat_minor": 2
}
