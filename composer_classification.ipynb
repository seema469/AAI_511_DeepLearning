{
 "cells": [
  {
   "cell_type": "markdown",
   "id": "9115afd8-9b0c-4250-8dbb-2375f4e7e0b1",
   "metadata": {},
   "source": [
    "# Composer Classification"
   ]
  },
  {
   "cell_type": "code",
   "execution_count": 1,
   "id": "aecd37f1-844b-4e25-a285-64b839490fb1",
   "metadata": {},
   "outputs": [],
   "source": [
    "# Import required libraries\n",
    "import tensorflow as tf\n",
    "import os\n",
    "import numpy as np\n",
    "import pretty_midi\n",
    "import librosa\n",
    "import librosa.display\n",
    "import matplotlib.pyplot as plt\n",
    "import pandas as pd"
   ]
  },
  {
   "cell_type": "code",
   "execution_count": 2,
   "id": "368d648e-586e-4241-9be9-c625d22ddba8",
   "metadata": {},
   "outputs": [],
   "source": [
    "# Define globals\n",
    "data_directory = './/data'  #dataset path\n",
    "fs = 5  # Sampling frequency for piano rolls"
   ]
  },
  {
   "cell_type": "code",
   "execution_count": 14,
   "id": "67e5db11-b77b-48b5-8608-ee3b0376164b",
   "metadata": {},
   "outputs": [],
   "source": [
    "# Helper functions"
   ]
  },
  {
   "cell_type": "code",
   "execution_count": 15,
   "id": "316cc38c-1eea-47d2-891d-b2eeb22aa9e9",
   "metadata": {},
   "outputs": [],
   "source": [
    "# Function to load midi files, composer labels and compser map in seperate arrays\n",
    "\n",
    "def load_midi_data_and_labels(directory):\n",
    "    skipped_files = []    # Keep track of skipped files due to errors\n",
    "    data = []\n",
    "    composers = []\n",
    "    num_composer_map = {}\n",
    "    # Function to recursively iterate files in a directory\n",
    "    def iterate_dir(dir_path, label, composer):        \n",
    "        # Check direct .mid files in current directory\n",
    "        for item in os.listdir(dir_path):\n",
    "            item_path = os.path.join(dir_path, item)\n",
    "            if os.path.isfile(item_path) and item_path.endswith('.mid'):\n",
    "                try:\n",
    "                    # Load the MIDI file\n",
    "                    midi_data = pretty_midi.PrettyMIDI(item_path)\n",
    "                    data.append(midi_data)\n",
    "                    composers.append(label)                    \n",
    "                except Exception as e:  # Catch any exception that might be raised\n",
    "                    print(f\"Skipping file {item_path} due to an error: {e}\")\n",
    "                    skipped_files.append(item_path)\n",
    "            elif os.path.isdir(item_path):\n",
    "                iterate_dir(item_path, label, composer)\n",
    "        print(f\"Number of files skipped due to error: {len(skipped_files)}\")\n",
    "        return\n",
    "\n",
    "    # Process each composer's directory in the root directory\n",
    "    for label, composer in enumerate(sorted(os.listdir(directory))):\n",
    "        composer_path = os.path.join(directory, composer)\n",
    "        if os.path.isdir(composer_path):\n",
    "            num_composer_map[label] = composer\n",
    "            iterate_dir(composer_path, label, composer)\n",
    "\n",
    "    return np.array(data), np.array(composers), num_composer_map\n"
   ]
  },
  {
   "cell_type": "code",
   "execution_count": 16,
   "id": "3fb7456f-a354-45fd-a404-5d69a2ad8fc2",
   "metadata": {},
   "outputs": [
    {
     "name": "stdout",
     "output_type": "stream",
     "text": [
      "Number of files skipped due to error: 0\n",
      "Number of files skipped due to error: 0\n",
      "Number of files skipped due to error: 0\n",
      "Skipping file .//data\\Beethoven\\Anhang 14-3.mid due to an error: Could not decode key with 3 flats and mode 255\n",
      "Number of files skipped due to error: 1\n"
     ]
    },
    {
     "name": "stderr",
     "output_type": "stream",
     "text": [
      "C:\\Users\\bplse\\anaconda3\\envs\\Tf_210_Py_3819_Cuda_112_Cudn_81\\lib\\site-packages\\pretty_midi\\pretty_midi.py:100: RuntimeWarning: Tempo, Key or Time signature change events found on non-zero tracks.  This is not a valid type 0 or type 1 MIDI file.  Tempo, Key or Time Signature may be wrong.\n",
      "  warnings.warn(\n"
     ]
    },
    {
     "name": "stdout",
     "output_type": "stream",
     "text": [
      "Number of files skipped due to error: 1\n",
      "Number of files skipped due to error: 1\n"
     ]
    }
   ],
   "source": [
    "midi_data, composer_labels, composer_map = load_midi_data_and_labels(data_directory)"
   ]
  },
  {
   "cell_type": "code",
   "execution_count": 17,
   "id": "5c1b3100-ca69-47d1-9dd4-917b1c7ffeaa",
   "metadata": {},
   "outputs": [
    {
     "data": {
      "text/plain": [
       "(52,)"
      ]
     },
     "execution_count": 17,
     "metadata": {},
     "output_type": "execute_result"
    }
   ],
   "source": [
    "midi_data.shape"
   ]
  },
  {
   "cell_type": "code",
   "execution_count": 12,
   "id": "4adcc4d3-8bb9-477d-8064-cc8ea4519eea",
   "metadata": {},
   "outputs": [
    {
     "data": {
      "image/png": "[encoded data removed]",
      "text/plain": [
       "<Figure size 1000x600 with 1 Axes>"
      ]
     },
     "metadata": {},
     "output_type": "display_data"
    }
   ],
   "source": [
    "# Explore the MIDI data\n",
    "\n",
    "# Convert list to pandas Series\n",
    "composer_series = pd.Series(composer_labels)\n",
    "# Count of each label\n",
    "label_counts = composer_series.value_counts().sort_index()\n",
    "# Map label counts to composer names\n",
    "composer_counts = label_counts.rename(index=composer_map)\n",
    "def plot_midi_distribution(composer_counts):\n",
    "    # Plotting the data\n",
    "    plt.figure(figsize=(10, 6))\n",
    "    composer_counts.plot(kind='bar', color='teal')\n",
    "    plt.xlabel('Composers')\n",
    "    plt.ylabel('Number of MIDI Files')\n",
    "    plt.title('Distribution of MIDI Files')\n",
    "    plt.xticks(rotation=45)\n",
    "    plt.tight_layout()  # Adjust layout to make room for rotated x-axis labels\n",
    "    plt.show()\n",
    "\n",
    "plot_midi_distribution(composer_counts)\n"
   ]
  },
  {
   "cell_type": "markdown",
   "id": "2dc3a675-0fc6-43a1-8538-bf6294616316",
   "metadata": {},
   "source": [
    "## Data Pre-processing: \n",
    "\n",
    "Convert the musical scores into a format suitable for deep learning models. This involves converting the musical scores into MIDI\n",
    "files and applying data augmentation techniques.\n"
   ]
  },
  {
   "cell_type": "code",
   "execution_count": null,
   "id": "8bba296b-168e-4f06-aceb-1d418563e95d",
   "metadata": {},
   "outputs": [],
   "source": []
  },
  {
   "cell_type": "code",
   "execution_count": null,
   "id": "e965076e-d3b3-44a8-9bf6-3edc8f529755",
   "metadata": {},
   "outputs": [],
   "source": []
  },
  {
   "cell_type": "code",
   "execution_count": null,
   "id": "45c210d7-3b93-470e-b26d-f3801a667129",
   "metadata": {},
   "outputs": [],
   "source": []
  },
  {
   "cell_type": "markdown",
   "id": "f4d75c36-cd22-4066-a762-2419b49f6392",
   "metadata": {},
   "source": [
    "## Feature Extraction: \n",
    "\n",
    "Extract features from the MIDI files, such as notes, chords, and tempo, using music analysis tools."
   ]
  },
  {
   "cell_type": "code",
   "execution_count": null,
   "id": "224427f2-71b9-4711-97f6-06c9fd3a2bc8",
   "metadata": {},
   "outputs": [],
   "source": []
  },
  {
   "cell_type": "code",
   "execution_count": null,
   "id": "ea9bda33-dbee-4dd1-a029-589482614a2c",
   "metadata": {},
   "outputs": [],
   "source": []
  },
  {
   "cell_type": "code",
   "execution_count": null,
   "id": "dfd0c540-1668-4d84-abbf-3704dc9d53a3",
   "metadata": {},
   "outputs": [],
   "source": []
  },
  {
   "cell_type": "markdown",
   "id": "c18aa3ae-0fcc-43be-be70-921566b83fa8",
   "metadata": {},
   "source": [
    "## Model Building: \n",
    "\n",
    "Develop a deep learning model using LSTM and CNN architectures to classify the musical scores according to the composer."
   ]
  },
  {
   "cell_type": "code",
   "execution_count": null,
   "id": "3e31d4a9-2f96-4bd0-83d2-57da66956fca",
   "metadata": {},
   "outputs": [],
   "source": []
  },
  {
   "cell_type": "code",
   "execution_count": null,
   "id": "ec0b216a-ec6a-4cfb-b576-33a816b9d910",
   "metadata": {},
   "outputs": [],
   "source": []
  },
  {
   "cell_type": "code",
   "execution_count": null,
   "id": "f1cc940c-87ac-4692-aea9-7032387819db",
   "metadata": {},
   "outputs": [],
   "source": []
  },
  {
   "cell_type": "markdown",
   "id": "d97b624f-d715-46b6-93f0-bfe38094accd",
   "metadata": {},
   "source": [
    "## Model Training: \n",
    "\n",
    "Train the deep learning model using the pre-processed and feature-extracted data."
   ]
  },
  {
   "cell_type": "code",
   "execution_count": null,
   "id": "4ec5bf98-7de9-4a5a-8fdc-a4fd15ede2ad",
   "metadata": {},
   "outputs": [],
   "source": []
  },
  {
   "cell_type": "code",
   "execution_count": null,
   "id": "6f5ce761-bb7f-4534-a3c3-3c67c4661416",
   "metadata": {},
   "outputs": [],
   "source": []
  },
  {
   "cell_type": "code",
   "execution_count": null,
   "id": "28821e1b-280c-483e-962d-ccc9772b404e",
   "metadata": {},
   "outputs": [],
   "source": []
  },
  {
   "cell_type": "markdown",
   "id": "c4c4b07a-bca9-49e0-bb28-29491eff5dac",
   "metadata": {},
   "source": [
    "## Model Evaluation: \n",
    "\n",
    "Evaluate the performance of the deep learning model using accuracy, precision, and recall metrics."
   ]
  },
  {
   "cell_type": "code",
   "execution_count": null,
   "id": "50cb7586-ed74-4a16-9d61-2a58dead6e79",
   "metadata": {},
   "outputs": [],
   "source": []
  },
  {
   "cell_type": "code",
   "execution_count": null,
   "id": "5a307487-acfa-4adc-9b59-a9b2d1a27737",
   "metadata": {},
   "outputs": [],
   "source": []
  },
  {
   "cell_type": "code",
   "execution_count": null,
   "id": "eaf3f94b-4dfa-4a38-ba9a-4a4b706131a8",
   "metadata": {},
   "outputs": [],
   "source": []
  },
  {
   "cell_type": "markdown",
   "id": "f6a82187-797b-48b0-a806-df77cd020e2d",
   "metadata": {},
   "source": [
    "## Model Optimization: \n",
    "\n",
    "Optimize the deep learning model by fine-tuning hyperparameters."
   ]
  },
  {
   "cell_type": "code",
   "execution_count": null,
   "id": "911b3cc3-c791-47ab-a3bc-86caba395161",
   "metadata": {},
   "outputs": [],
   "source": []
  },
  {
   "cell_type": "code",
   "execution_count": null,
   "id": "be06878a-f949-4cce-a99b-e7833a3069da",
   "metadata": {},
   "outputs": [],
   "source": []
  },
  {
   "cell_type": "code",
   "execution_count": null,
   "id": "2b5749e8-a347-4c43-922d-82ffe1d8dc42",
   "metadata": {},
   "outputs": [],
   "source": []
  }
 ],
 "metadata": {
  "kernelspec": {
   "display_name": "Python 3 (ipykernel)",
   "language": "python",
   "name": "python3"
  },
  "language_info": {
   "codemirror_mode": {
    "name": "ipython",
    "version": 3
   },
   "file_extension": ".py",
   "mimetype": "text/x-python",
   "name": "python",
   "nbconvert_exporter": "python",
   "pygments_lexer": "ipython3",
   "version": "3.8.19"
  }
 },
 "nbformat": 4,
 "nbformat_minor": 5
}
