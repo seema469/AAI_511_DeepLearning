{
 "cells": [
  {
   "cell_type": "markdown",
   "id": "9115afd8-9b0c-4250-8dbb-2375f4e7e0b1",
   "metadata": {},
   "source": [
    "# Composer Classification"
   ]
  },
  {
   "cell_type": "code",
   "execution_count": null,
   "id": "aecd37f1-844b-4e25-a285-64b839490fb1",
   "metadata": {},
   "outputs": [],
   "source": [
    "# Import required libraries\n",
    "import tensorflow as tf\n",
    "import os\n",
    "import numpy as np\n",
    "import pretty_midi\n",
    "import librosa\n",
    "import librosa.display\n",
    "import matplotlib.pyplot as plt"
   ]
  },
  {
   "cell_type": "code",
   "execution_count": null,
   "id": "368d648e-586e-4241-9be9-c625d22ddba8",
   "metadata": {},
   "outputs": [],
   "source": [
    "data_directory = './/data'"
   ]
  },
  {
   "cell_type": "code",
   "execution_count": null,
   "id": "dd422c5e-fdd5-45fa-bfe0-241048c60ea6",
   "metadata": {},
   "outputs": [],
   "source": []
  },
  {
   "cell_type": "code",
   "execution_count": null,
   "id": "b2f40894-3d42-42c6-9301-5c1f0c550569",
   "metadata": {},
   "outputs": [],
   "source": []
  },
  {
   "cell_type": "code",
   "execution_count": null,
   "id": "4adcc4d3-8bb9-477d-8064-cc8ea4519eea",
   "metadata": {},
   "outputs": [],
   "source": []
  },
  {
   "cell_type": "markdown",
   "id": "2dc3a675-0fc6-43a1-8538-bf6294616316",
   "metadata": {},
   "source": [
    "## Data Pre-processing: \n",
    "\n",
    "Convert the musical scores into a format suitable for deep learning models. This involves converting the musical scores into MIDI\n",
    "files and applying data augmentation techniques.\n"
   ]
  },
  {
   "cell_type": "code",
   "execution_count": null,
   "id": "8bba296b-168e-4f06-aceb-1d418563e95d",
   "metadata": {},
   "outputs": [],
   "source": []
  },
  {
   "cell_type": "code",
   "execution_count": null,
   "id": "e965076e-d3b3-44a8-9bf6-3edc8f529755",
   "metadata": {},
   "outputs": [],
   "source": []
  },
  {
   "cell_type": "code",
   "execution_count": null,
   "id": "45c210d7-3b93-470e-b26d-f3801a667129",
   "metadata": {},
   "outputs": [],
   "source": []
  },
  {
   "cell_type": "markdown",
   "id": "f4d75c36-cd22-4066-a762-2419b49f6392",
   "metadata": {},
   "source": [
    "## Feature Extraction: \n",
    "\n",
    "Extract features from the MIDI files, such as notes, chords, and tempo, using music analysis tools."
   ]
  },
  {
   "cell_type": "code",
   "execution_count": null,
   "id": "224427f2-71b9-4711-97f6-06c9fd3a2bc8",
   "metadata": {},
   "outputs": [],
   "source": []
  },
  {
   "cell_type": "code",
   "execution_count": null,
   "id": "ea9bda33-dbee-4dd1-a029-589482614a2c",
   "metadata": {},
   "outputs": [],
   "source": []
  },
  {
   "cell_type": "code",
   "execution_count": null,
   "id": "dfd0c540-1668-4d84-abbf-3704dc9d53a3",
   "metadata": {},
   "outputs": [],
   "source": []
  },
  {
   "cell_type": "markdown",
   "id": "c18aa3ae-0fcc-43be-be70-921566b83fa8",
   "metadata": {},
   "source": [
    "## Model Building: \n",
    "\n",
    "Develop a deep learning model using LSTM and CNN architectures to classify the musical scores according to the composer."
   ]
  },
  {
   "cell_type": "code",
   "execution_count": null,
   "id": "3e31d4a9-2f96-4bd0-83d2-57da66956fca",
   "metadata": {},
   "outputs": [],
   "source": []
  },
  {
   "cell_type": "code",
   "execution_count": null,
   "id": "ec0b216a-ec6a-4cfb-b576-33a816b9d910",
   "metadata": {},
   "outputs": [],
   "source": []
  },
  {
   "cell_type": "code",
   "execution_count": null,
   "id": "f1cc940c-87ac-4692-aea9-7032387819db",
   "metadata": {},
   "outputs": [],
   "source": []
  },
  {
   "cell_type": "markdown",
   "id": "d97b624f-d715-46b6-93f0-bfe38094accd",
   "metadata": {},
   "source": [
    "## Model Training: \n",
    "\n",
    "Train the deep learning model using the pre-processed and feature-extracted data."
   ]
  },
  {
   "cell_type": "code",
   "execution_count": null,
   "id": "4ec5bf98-7de9-4a5a-8fdc-a4fd15ede2ad",
   "metadata": {},
   "outputs": [],
   "source": []
  },
  {
   "cell_type": "code",
   "execution_count": null,
   "id": "6f5ce761-bb7f-4534-a3c3-3c67c4661416",
   "metadata": {},
   "outputs": [],
   "source": []
  },
  {
   "cell_type": "code",
   "execution_count": null,
   "id": "28821e1b-280c-483e-962d-ccc9772b404e",
   "metadata": {},
   "outputs": [],
   "source": []
  },
  {
   "cell_type": "markdown",
   "id": "c4c4b07a-bca9-49e0-bb28-29491eff5dac",
   "metadata": {},
   "source": [
    "## Model Evaluation: \n",
    "\n",
    "Evaluate the performance of the deep learning model using accuracy, precision, and recall metrics."
   ]
  },
  {
   "cell_type": "code",
   "execution_count": null,
   "id": "50cb7586-ed74-4a16-9d61-2a58dead6e79",
   "metadata": {},
   "outputs": [],
   "source": []
  },
  {
   "cell_type": "code",
   "execution_count": null,
   "id": "5a307487-acfa-4adc-9b59-a9b2d1a27737",
   "metadata": {},
   "outputs": [],
   "source": []
  },
  {
   "cell_type": "code",
   "execution_count": null,
   "id": "eaf3f94b-4dfa-4a38-ba9a-4a4b706131a8",
   "metadata": {},
   "outputs": [],
   "source": []
  },
  {
   "cell_type": "markdown",
   "id": "f6a82187-797b-48b0-a806-df77cd020e2d",
   "metadata": {},
   "source": [
    "## Model Optimization: \n",
    "\n",
    "Optimize the deep learning model by fine-tuning hyperparameters."
   ]
  },
  {
   "cell_type": "code",
   "execution_count": null,
   "id": "911b3cc3-c791-47ab-a3bc-86caba395161",
   "metadata": {},
   "outputs": [],
   "source": []
  },
  {
   "cell_type": "code",
   "execution_count": null,
   "id": "be06878a-f949-4cce-a99b-e7833a3069da",
   "metadata": {},
   "outputs": [],
   "source": []
  },
  {
   "cell_type": "code",
   "execution_count": null,
   "id": "2b5749e8-a347-4c43-922d-82ffe1d8dc42",
   "metadata": {},
   "outputs": [],
   "source": []
  }
 ],
 "metadata": {
  "kernelspec": {
   "display_name": "Python 3 (ipykernel)",
   "language": "python",
   "name": "python3"
  },
  "language_info": {
   "codemirror_mode": {
    "name": "ipython",
    "version": 3
   },
   "file_extension": ".py",
   "mimetype": "text/x-python",
   "name": "python",
   "nbconvert_exporter": "python",
   "pygments_lexer": "ipython3",
   "version": "3.8.19"
  }
 },
 "nbformat": 4,
 "nbformat_minor": 5
}
