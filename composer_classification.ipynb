{
  "cells": [
    {
      "cell_type": "markdown",
      "id": "9115afd8-9b0c-4250-8dbb-2375f4e7e0b1",
      "metadata": {
        "id": "9115afd8-9b0c-4250-8dbb-2375f4e7e0b1"
      },
      "source": [
        "<h1 align=\"center\">Classification of Composers Using Convolutional and Long Short-Term Memory Networks</h1>\n"
      ]
    },
    {
      "cell_type": "markdown",
      "id": "fd5ce0b3-6bef-46ea-a646-6a8fe8887f3c",
      "metadata": {
        "id": "fd5ce0b3-6bef-46ea-a646-6a8fe8887f3c"
      },
      "source": [
        "This project seeks to accurately predict classical composers like Bach, Beethoven, Chopin and Mozart from musical scores using LSTM and CNN models, addressing the challenges novice listeners face in distinguishing these composers.\n",
        "\n",
        "Classical music intricately blends art with mathematical principles, presenting a unique opportunity for Machine Learning (ML) application. This project extends these principles to develop AI tools that enhance understanding and appreciation of classical music, serving both educational and analytical purposes in the field.\n",
        "\n",
        "The project is divided into three distinct sections, each addressing a different computational approache.\n",
        "1) Convolutional Neural Networks (CNN) to analyze structural patterns and extract foundational features.\n",
        "2) LSTM Method 1 : Long Short-Term Memory networks (LSTM) for capturing sequential patterns and temporal dynamics.\n",
        "3) LSTM Method 2: LSTM using fixed sequence tokens to identify and learn distinct, recurring pitch sequences unique to each composer."
      ]
    },
    {
      "cell_type": "code",
      "execution_count": 1,
      "id": "3dedebec-99c8-4517-9a9b-030a62cc7edc",
      "metadata": {
        "colab": {
          "base_uri": "https://localhost:8080/"
        },
        "id": "3dedebec-99c8-4517-9a9b-030a62cc7edc",
        "outputId": "bac7994b-2c7c-49c4-9fc1-45baabbaccc0"
      },
      "outputs": [
        {
          "output_type": "stream",
          "name": "stdout",
          "text": [
            "Mounted at /content/drive\n",
            "Collecting pretty_midi\n",
            "  Downloading pretty_midi-0.2.10.tar.gz (5.6 MB)\n",
            "\u001b[2K     \u001b[90m━━━━━━━━━━━━━━━━━━━━━━━━━━━━━━━━━━━━━━━━\u001b[0m \u001b[32m5.6/5.6 MB\u001b[0m \u001b[31m19.7 MB/s\u001b[0m eta \u001b[36m0:00:00\u001b[0m\n",
            "\u001b[?25h  Preparing metadata (setup.py) ... \u001b[?25l\u001b[?25hdone\n",
            "Requirement already satisfied: numpy>=1.7.0 in /usr/local/lib/python3.10/dist-packages (from pretty_midi) (1.26.4)\n",
            "Collecting mido>=1.1.16 (from pretty_midi)\n",
            "  Downloading mido-1.3.2-py3-none-any.whl.metadata (6.4 kB)\n",
            "Requirement already satisfied: six in /usr/local/lib/python3.10/dist-packages (from pretty_midi) (1.16.0)\n",
            "Collecting packaging~=23.1 (from mido>=1.1.16->pretty_midi)\n",
            "  Downloading packaging-23.2-py3-none-any.whl.metadata (3.2 kB)\n",
            "Downloading mido-1.3.2-py3-none-any.whl (54 kB)\n",
            "\u001b[2K   \u001b[90m━━━━━━━━━━━━━━━━━━━━━━━━━━━━━━━━━━━━━━━━\u001b[0m \u001b[32m54.6/54.6 kB\u001b[0m \u001b[31m5.0 MB/s\u001b[0m eta \u001b[36m0:00:00\u001b[0m\n",
            "\u001b[?25hDownloading packaging-23.2-py3-none-any.whl (53 kB)\n",
            "\u001b[2K   \u001b[90m━━━━━━━━━━━━━━━━━━━━━━━━━━━━━━━━━━━━━━━━\u001b[0m \u001b[32m53.0/53.0 kB\u001b[0m \u001b[31m4.5 MB/s\u001b[0m eta \u001b[36m0:00:00\u001b[0m\n",
            "\u001b[?25hBuilding wheels for collected packages: pretty_midi\n",
            "  Building wheel for pretty_midi (setup.py) ... \u001b[?25l\u001b[?25hdone\n",
            "  Created wheel for pretty_midi: filename=pretty_midi-0.2.10-py3-none-any.whl size=5592287 sha256=4b709f743ab85d03ad9e107ba811a909699abf7fe5f36088510769865738bfb5\n",
            "  Stored in directory: /root/.cache/pip/wheels/cd/a5/30/7b8b7f58709f5150f67f98fde4b891ebf0be9ef07a8af49f25\n",
            "Successfully built pretty_midi\n",
            "Installing collected packages: packaging, mido, pretty_midi\n",
            "  Attempting uninstall: packaging\n",
            "    Found existing installation: packaging 24.1\n",
            "    Uninstalling packaging-24.1:\n",
            "      Successfully uninstalled packaging-24.1\n",
            "Successfully installed mido-1.3.2 packaging-23.2 pretty_midi-0.2.10\n",
            "Collecting pyfluidsynth\n",
            "  Downloading pyFluidSynth-1.3.3.tar.gz (26 kB)\n",
            "  Preparing metadata (setup.py) ... \u001b[?25l\u001b[?25hdone\n",
            "Requirement already satisfied: numpy in /usr/local/lib/python3.10/dist-packages (from pyfluidsynth) (1.26.4)\n",
            "Building wheels for collected packages: pyfluidsynth\n",
            "  Building wheel for pyfluidsynth (setup.py) ... \u001b[?25l\u001b[?25hdone\n",
            "  Created wheel for pyfluidsynth: filename=pyFluidSynth-1.3.3-py3-none-any.whl size=19185 sha256=b1887daff41eb351b2c5e8db05bbf67991937f50deedb367c5240480f73bafa2\n",
            "  Stored in directory: /root/.cache/pip/wheels/e6/9c/2b/b4b194cbb100d6f20136a22b2f76cd329b1a21139ed26c9775\n",
            "Successfully built pyfluidsynth\n",
            "Installing collected packages: pyfluidsynth\n",
            "Successfully installed pyfluidsynth-1.3.3\n",
            "Reading package lists... Done\n",
            "Building dependency tree... Done\n",
            "Reading state information... Done\n",
            "The following additional packages will be installed:\n",
            "  fluid-soundfont-gm libevdev2 libfluidsynth3 libgudev-1.0-0 libinput-bin libinput10\n",
            "  libinstpatch-1.0-2 libmd4c0 libmtdev1 libqt5core5a libqt5dbus5 libqt5gui5 libqt5network5\n",
            "  libqt5svg5 libqt5widgets5 libwacom-bin libwacom-common libwacom9 libxcb-icccm4 libxcb-image0\n",
            "  libxcb-keysyms1 libxcb-render-util0 libxcb-util1 libxcb-xinerama0 libxcb-xinput0 libxcb-xkb1\n",
            "  libxkbcommon-x11-0 qsynth qt5-gtk-platformtheme qttranslations5-l10n timgm6mb-soundfont\n",
            "Suggested packages:\n",
            "  fluid-soundfont-gs qt5-image-formats-plugins qtwayland5 jackd\n",
            "The following NEW packages will be installed:\n",
            "  fluid-soundfont-gm fluidsynth libevdev2 libfluidsynth3 libgudev-1.0-0 libinput-bin libinput10\n",
            "  libinstpatch-1.0-2 libmd4c0 libmtdev1 libqt5core5a libqt5dbus5 libqt5gui5 libqt5network5\n",
            "  libqt5svg5 libqt5widgets5 libwacom-bin libwacom-common libwacom9 libxcb-icccm4 libxcb-image0\n",
            "  libxcb-keysyms1 libxcb-render-util0 libxcb-util1 libxcb-xinerama0 libxcb-xinput0 libxcb-xkb1\n",
            "  libxkbcommon-x11-0 qsynth qt5-gtk-platformtheme qttranslations5-l10n timgm6mb-soundfont\n",
            "0 upgraded, 32 newly installed, 0 to remove and 45 not upgraded.\n",
            "Need to get 148 MB of archives.\n",
            "After this operation, 207 MB of additional disk space will be used.\n",
            "Get:1 http://archive.ubuntu.com/ubuntu jammy-updates/universe amd64 libqt5core5a amd64 5.15.3+dfsg-2ubuntu0.2 [2,006 kB]\n",
            "Get:2 http://archive.ubuntu.com/ubuntu jammy/main amd64 libevdev2 amd64 1.12.1+dfsg-1 [39.5 kB]\n",
            "Get:3 http://archive.ubuntu.com/ubuntu jammy/main amd64 libmtdev1 amd64 1.1.6-1build4 [14.5 kB]\n",
            "Get:4 http://archive.ubuntu.com/ubuntu jammy/main amd64 libgudev-1.0-0 amd64 1:237-2build1 [16.3 kB]\n",
            "Get:5 http://archive.ubuntu.com/ubuntu jammy/main amd64 libwacom-common all 2.2.0-1 [54.3 kB]\n",
            "Get:6 http://archive.ubuntu.com/ubuntu jammy/main amd64 libwacom9 amd64 2.2.0-1 [22.0 kB]\n",
            "Get:7 http://archive.ubuntu.com/ubuntu jammy-updates/main amd64 libinput-bin amd64 1.20.0-1ubuntu0.3 [19.9 kB]\n",
            "Get:8 http://archive.ubuntu.com/ubuntu jammy-updates/main amd64 libinput10 amd64 1.20.0-1ubuntu0.3 [131 kB]\n",
            "Get:9 http://archive.ubuntu.com/ubuntu jammy/universe amd64 libmd4c0 amd64 0.4.8-1 [42.0 kB]\n",
            "Get:10 http://archive.ubuntu.com/ubuntu jammy-updates/universe amd64 libqt5dbus5 amd64 5.15.3+dfsg-2ubuntu0.2 [222 kB]\n",
            "Get:11 http://archive.ubuntu.com/ubuntu jammy-updates/universe amd64 libqt5network5 amd64 5.15.3+dfsg-2ubuntu0.2 [731 kB]\n",
            "Get:12 http://archive.ubuntu.com/ubuntu jammy/main amd64 libxcb-icccm4 amd64 0.4.1-1.1build2 [11.5 kB]\n",
            "Get:13 http://archive.ubuntu.com/ubuntu jammy/main amd64 libxcb-util1 amd64 0.4.0-1build2 [11.4 kB]\n",
            "Get:14 http://archive.ubuntu.com/ubuntu jammy/main amd64 libxcb-image0 amd64 0.4.0-2 [11.5 kB]\n",
            "Get:15 http://archive.ubuntu.com/ubuntu jammy/main amd64 libxcb-keysyms1 amd64 0.4.0-1build3 [8,746 B]\n",
            "Get:16 http://archive.ubuntu.com/ubuntu jammy/main amd64 libxcb-render-util0 amd64 0.3.9-1build3 [10.3 kB]\n",
            "Get:17 http://archive.ubuntu.com/ubuntu jammy/main amd64 libxcb-xinerama0 amd64 1.14-3ubuntu3 [5,414 B]\n",
            "Get:18 http://archive.ubuntu.com/ubuntu jammy/main amd64 libxcb-xinput0 amd64 1.14-3ubuntu3 [34.3 kB]\n",
            "Get:19 http://archive.ubuntu.com/ubuntu jammy/main amd64 libxcb-xkb1 amd64 1.14-3ubuntu3 [32.8 kB]\n",
            "Get:20 http://archive.ubuntu.com/ubuntu jammy/main amd64 libxkbcommon-x11-0 amd64 1.4.0-1 [14.4 kB]\n",
            "Get:21 http://archive.ubuntu.com/ubuntu jammy-updates/universe amd64 libqt5gui5 amd64 5.15.3+dfsg-2ubuntu0.2 [3,722 kB]\n",
            "Get:22 http://archive.ubuntu.com/ubuntu jammy-updates/universe amd64 libqt5widgets5 amd64 5.15.3+dfsg-2ubuntu0.2 [2,561 kB]\n",
            "Get:23 http://archive.ubuntu.com/ubuntu jammy/universe amd64 libqt5svg5 amd64 5.15.3-1 [149 kB]\n",
            "Get:24 http://archive.ubuntu.com/ubuntu jammy/universe amd64 fluid-soundfont-gm all 3.1-5.3 [130 MB]\n",
            "Get:25 http://archive.ubuntu.com/ubuntu jammy/universe amd64 libinstpatch-1.0-2 amd64 1.1.6-1 [240 kB]\n",
            "Get:26 http://archive.ubuntu.com/ubuntu jammy/universe amd64 timgm6mb-soundfont all 1.3-5 [5,427 kB]\n",
            "Get:27 http://archive.ubuntu.com/ubuntu jammy/universe amd64 libfluidsynth3 amd64 2.2.5-1 [246 kB]\n",
            "Get:28 http://archive.ubuntu.com/ubuntu jammy/universe amd64 fluidsynth amd64 2.2.5-1 [27.4 kB]\n",
            "Get:29 http://archive.ubuntu.com/ubuntu jammy/main amd64 libwacom-bin amd64 2.2.0-1 [13.6 kB]\n",
            "Get:30 http://archive.ubuntu.com/ubuntu jammy/universe amd64 qsynth amd64 0.9.6-1 [305 kB]\n",
            "Get:31 http://archive.ubuntu.com/ubuntu jammy-updates/universe amd64 qt5-gtk-platformtheme amd64 5.15.3+dfsg-2ubuntu0.2 [130 kB]\n",
            "Get:32 http://archive.ubuntu.com/ubuntu jammy/universe amd64 qttranslations5-l10n all 5.15.3-1 [1,983 kB]\n",
            "Fetched 148 MB in 7s (20.7 MB/s)\n",
            "Extracting templates from packages: 100%\n",
            "Selecting previously unselected package libqt5core5a:amd64.\n",
            "(Reading database ... 123598 files and directories currently installed.)\n",
            "Preparing to unpack .../00-libqt5core5a_5.15.3+dfsg-2ubuntu0.2_amd64.deb ...\n",
            "Unpacking libqt5core5a:amd64 (5.15.3+dfsg-2ubuntu0.2) ...\n",
            "Selecting previously unselected package libevdev2:amd64.\n",
            "Preparing to unpack .../01-libevdev2_1.12.1+dfsg-1_amd64.deb ...\n",
            "Unpacking libevdev2:amd64 (1.12.1+dfsg-1) ...\n",
            "Selecting previously unselected package libmtdev1:amd64.\n",
            "Preparing to unpack .../02-libmtdev1_1.1.6-1build4_amd64.deb ...\n",
            "Unpacking libmtdev1:amd64 (1.1.6-1build4) ...\n",
            "Selecting previously unselected package libgudev-1.0-0:amd64.\n",
            "Preparing to unpack .../03-libgudev-1.0-0_1%3a237-2build1_amd64.deb ...\n",
            "Unpacking libgudev-1.0-0:amd64 (1:237-2build1) ...\n",
            "Selecting previously unselected package libwacom-common.\n",
            "Preparing to unpack .../04-libwacom-common_2.2.0-1_all.deb ...\n",
            "Unpacking libwacom-common (2.2.0-1) ...\n",
            "Selecting previously unselected package libwacom9:amd64.\n",
            "Preparing to unpack .../05-libwacom9_2.2.0-1_amd64.deb ...\n",
            "Unpacking libwacom9:amd64 (2.2.0-1) ...\n",
            "Selecting previously unselected package libinput-bin.\n",
            "Preparing to unpack .../06-libinput-bin_1.20.0-1ubuntu0.3_amd64.deb ...\n",
            "Unpacking libinput-bin (1.20.0-1ubuntu0.3) ...\n",
            "Selecting previously unselected package libinput10:amd64.\n",
            "Preparing to unpack .../07-libinput10_1.20.0-1ubuntu0.3_amd64.deb ...\n",
            "Unpacking libinput10:amd64 (1.20.0-1ubuntu0.3) ...\n",
            "Selecting previously unselected package libmd4c0:amd64.\n",
            "Preparing to unpack .../08-libmd4c0_0.4.8-1_amd64.deb ...\n",
            "Unpacking libmd4c0:amd64 (0.4.8-1) ...\n",
            "Selecting previously unselected package libqt5dbus5:amd64.\n",
            "Preparing to unpack .../09-libqt5dbus5_5.15.3+dfsg-2ubuntu0.2_amd64.deb ...\n",
            "Unpacking libqt5dbus5:amd64 (5.15.3+dfsg-2ubuntu0.2) ...\n",
            "Selecting previously unselected package libqt5network5:amd64.\n",
            "Preparing to unpack .../10-libqt5network5_5.15.3+dfsg-2ubuntu0.2_amd64.deb ...\n",
            "Unpacking libqt5network5:amd64 (5.15.3+dfsg-2ubuntu0.2) ...\n",
            "Selecting previously unselected package libxcb-icccm4:amd64.\n",
            "Preparing to unpack .../11-libxcb-icccm4_0.4.1-1.1build2_amd64.deb ...\n",
            "Unpacking libxcb-icccm4:amd64 (0.4.1-1.1build2) ...\n",
            "Selecting previously unselected package libxcb-util1:amd64.\n",
            "Preparing to unpack .../12-libxcb-util1_0.4.0-1build2_amd64.deb ...\n",
            "Unpacking libxcb-util1:amd64 (0.4.0-1build2) ...\n",
            "Selecting previously unselected package libxcb-image0:amd64.\n",
            "Preparing to unpack .../13-libxcb-image0_0.4.0-2_amd64.deb ...\n",
            "Unpacking libxcb-image0:amd64 (0.4.0-2) ...\n",
            "Selecting previously unselected package libxcb-keysyms1:amd64.\n",
            "Preparing to unpack .../14-libxcb-keysyms1_0.4.0-1build3_amd64.deb ...\n",
            "Unpacking libxcb-keysyms1:amd64 (0.4.0-1build3) ...\n",
            "Selecting previously unselected package libxcb-render-util0:amd64.\n",
            "Preparing to unpack .../15-libxcb-render-util0_0.3.9-1build3_amd64.deb ...\n",
            "Unpacking libxcb-render-util0:amd64 (0.3.9-1build3) ...\n",
            "Selecting previously unselected package libxcb-xinerama0:amd64.\n",
            "Preparing to unpack .../16-libxcb-xinerama0_1.14-3ubuntu3_amd64.deb ...\n",
            "Unpacking libxcb-xinerama0:amd64 (1.14-3ubuntu3) ...\n",
            "Selecting previously unselected package libxcb-xinput0:amd64.\n",
            "Preparing to unpack .../17-libxcb-xinput0_1.14-3ubuntu3_amd64.deb ...\n",
            "Unpacking libxcb-xinput0:amd64 (1.14-3ubuntu3) ...\n",
            "Selecting previously unselected package libxcb-xkb1:amd64.\n",
            "Preparing to unpack .../18-libxcb-xkb1_1.14-3ubuntu3_amd64.deb ...\n",
            "Unpacking libxcb-xkb1:amd64 (1.14-3ubuntu3) ...\n",
            "Selecting previously unselected package libxkbcommon-x11-0:amd64.\n",
            "Preparing to unpack .../19-libxkbcommon-x11-0_1.4.0-1_amd64.deb ...\n",
            "Unpacking libxkbcommon-x11-0:amd64 (1.4.0-1) ...\n",
            "Selecting previously unselected package libqt5gui5:amd64.\n",
            "Preparing to unpack .../20-libqt5gui5_5.15.3+dfsg-2ubuntu0.2_amd64.deb ...\n",
            "Unpacking libqt5gui5:amd64 (5.15.3+dfsg-2ubuntu0.2) ...\n",
            "Selecting previously unselected package libqt5widgets5:amd64.\n",
            "Preparing to unpack .../21-libqt5widgets5_5.15.3+dfsg-2ubuntu0.2_amd64.deb ...\n",
            "Unpacking libqt5widgets5:amd64 (5.15.3+dfsg-2ubuntu0.2) ...\n",
            "Selecting previously unselected package libqt5svg5:amd64.\n",
            "Preparing to unpack .../22-libqt5svg5_5.15.3-1_amd64.deb ...\n",
            "Unpacking libqt5svg5:amd64 (5.15.3-1) ...\n",
            "Selecting previously unselected package fluid-soundfont-gm.\n",
            "Preparing to unpack .../23-fluid-soundfont-gm_3.1-5.3_all.deb ...\n",
            "Unpacking fluid-soundfont-gm (3.1-5.3) ...\n",
            "Selecting previously unselected package libinstpatch-1.0-2:amd64.\n",
            "Preparing to unpack .../24-libinstpatch-1.0-2_1.1.6-1_amd64.deb ...\n",
            "Unpacking libinstpatch-1.0-2:amd64 (1.1.6-1) ...\n",
            "Selecting previously unselected package timgm6mb-soundfont.\n",
            "Preparing to unpack .../25-timgm6mb-soundfont_1.3-5_all.deb ...\n",
            "Unpacking timgm6mb-soundfont (1.3-5) ...\n",
            "Selecting previously unselected package libfluidsynth3:amd64.\n",
            "Preparing to unpack .../26-libfluidsynth3_2.2.5-1_amd64.deb ...\n",
            "Unpacking libfluidsynth3:amd64 (2.2.5-1) ...\n",
            "Selecting previously unselected package fluidsynth.\n",
            "Preparing to unpack .../27-fluidsynth_2.2.5-1_amd64.deb ...\n",
            "Unpacking fluidsynth (2.2.5-1) ...\n",
            "Selecting previously unselected package libwacom-bin.\n",
            "Preparing to unpack .../28-libwacom-bin_2.2.0-1_amd64.deb ...\n",
            "Unpacking libwacom-bin (2.2.0-1) ...\n",
            "Selecting previously unselected package qsynth.\n",
            "Preparing to unpack .../29-qsynth_0.9.6-1_amd64.deb ...\n",
            "Unpacking qsynth (0.9.6-1) ...\n",
            "Selecting previously unselected package qt5-gtk-platformtheme:amd64.\n",
            "Preparing to unpack .../30-qt5-gtk-platformtheme_5.15.3+dfsg-2ubuntu0.2_amd64.deb ...\n",
            "Unpacking qt5-gtk-platformtheme:amd64 (5.15.3+dfsg-2ubuntu0.2) ...\n",
            "Selecting previously unselected package qttranslations5-l10n.\n",
            "Preparing to unpack .../31-qttranslations5-l10n_5.15.3-1_all.deb ...\n",
            "Unpacking qttranslations5-l10n (5.15.3-1) ...\n",
            "Setting up libxcb-xinput0:amd64 (1.14-3ubuntu3) ...\n",
            "Setting up libxcb-keysyms1:amd64 (0.4.0-1build3) ...\n",
            "Setting up libxcb-render-util0:amd64 (0.3.9-1build3) ...\n",
            "Setting up libxcb-icccm4:amd64 (0.4.1-1.1build2) ...\n",
            "Setting up libxcb-util1:amd64 (0.4.0-1build2) ...\n",
            "Setting up libxcb-xkb1:amd64 (1.14-3ubuntu3) ...\n",
            "Setting up libxcb-image0:amd64 (0.4.0-2) ...\n",
            "Setting up libxcb-xinerama0:amd64 (1.14-3ubuntu3) ...\n",
            "Setting up qttranslations5-l10n (5.15.3-1) ...\n",
            "Setting up libxkbcommon-x11-0:amd64 (1.4.0-1) ...\n",
            "Setting up libqt5core5a:amd64 (5.15.3+dfsg-2ubuntu0.2) ...\n",
            "Setting up libmtdev1:amd64 (1.1.6-1build4) ...\n",
            "Setting up libqt5dbus5:amd64 (5.15.3+dfsg-2ubuntu0.2) ...\n",
            "Setting up libmd4c0:amd64 (0.4.8-1) ...\n",
            "Setting up fluid-soundfont-gm (3.1-5.3) ...\n",
            "update-alternatives: using /usr/share/sounds/sf2/FluidR3_GM.sf2 to provide /usr/share/sounds/sf2/default-GM.sf2 (default-GM.sf2) in auto mode\n",
            "update-alternatives: using /usr/share/sounds/sf2/FluidR3_GM.sf2 to provide /usr/share/sounds/sf3/default-GM.sf3 (default-GM.sf3) in auto mode\n",
            "Setting up timgm6mb-soundfont (1.3-5) ...\n",
            "Setting up libevdev2:amd64 (1.12.1+dfsg-1) ...\n",
            "Setting up libinstpatch-1.0-2:amd64 (1.1.6-1) ...\n",
            "Setting up libgudev-1.0-0:amd64 (1:237-2build1) ...\n",
            "Setting up libfluidsynth3:amd64 (2.2.5-1) ...\n",
            "Setting up libwacom-common (2.2.0-1) ...\n",
            "Setting up libwacom9:amd64 (2.2.0-1) ...\n",
            "Setting up libqt5network5:amd64 (5.15.3+dfsg-2ubuntu0.2) ...\n",
            "Setting up libinput-bin (1.20.0-1ubuntu0.3) ...\n",
            "Setting up fluidsynth (2.2.5-1) ...\n",
            "Created symlink /etc/systemd/user/default.target.wants/fluidsynth.service → /usr/lib/systemd/user/fluidsynth.service.\n",
            "Setting up libwacom-bin (2.2.0-1) ...\n",
            "Setting up libinput10:amd64 (1.20.0-1ubuntu0.3) ...\n",
            "Setting up libqt5gui5:amd64 (5.15.3+dfsg-2ubuntu0.2) ...\n",
            "Setting up libqt5widgets5:amd64 (5.15.3+dfsg-2ubuntu0.2) ...\n",
            "Setting up qt5-gtk-platformtheme:amd64 (5.15.3+dfsg-2ubuntu0.2) ...\n",
            "Setting up libqt5svg5:amd64 (5.15.3-1) ...\n",
            "Setting up qsynth (0.9.6-1) ...\n",
            "Processing triggers for hicolor-icon-theme (0.17-2) ...\n",
            "Processing triggers for libc-bin (2.35-0ubuntu3.4) ...\n",
            "/sbin/ldconfig.real: /usr/local/lib/libtbbbind_2_0.so.3 is not a symbolic link\n",
            "\n",
            "/sbin/ldconfig.real: /usr/local/lib/libur_adapter_opencl.so.0 is not a symbolic link\n",
            "\n",
            "/sbin/ldconfig.real: /usr/local/lib/libur_adapter_level_zero.so.0 is not a symbolic link\n",
            "\n",
            "/sbin/ldconfig.real: /usr/local/lib/libtbbmalloc_proxy.so.2 is not a symbolic link\n",
            "\n",
            "/sbin/ldconfig.real: /usr/local/lib/libtbbbind_2_5.so.3 is not a symbolic link\n",
            "\n",
            "/sbin/ldconfig.real: /usr/local/lib/libur_loader.so.0 is not a symbolic link\n",
            "\n",
            "/sbin/ldconfig.real: /usr/local/lib/libtbbmalloc.so.2 is not a symbolic link\n",
            "\n",
            "/sbin/ldconfig.real: /usr/local/lib/libtbb.so.12 is not a symbolic link\n",
            "\n",
            "/sbin/ldconfig.real: /usr/local/lib/libtbbbind.so.3 is not a symbolic link\n",
            "\n",
            "Processing triggers for man-db (2.10.2-1) ...\n",
            "Reading package lists... Done\n",
            "Building dependency tree... Done\n",
            "Reading state information... Done\n",
            "graphviz is already the newest version (2.42.2-6ubuntu0.1).\n",
            "0 upgraded, 0 newly installed, 0 to remove and 45 not upgraded.\n",
            "Requirement already satisfied: graphviz in /usr/local/lib/python3.10/dist-packages (0.20.3)\n",
            "Requirement already satisfied: pydot in /usr/local/lib/python3.10/dist-packages (1.4.2)\n",
            "Requirement already satisfied: pyparsing>=2.1.4 in /usr/local/lib/python3.10/dist-packages (from pydot) (3.1.2)\n"
          ]
        }
      ],
      "source": [
        "#Seema colab setup\n",
        "\n",
        "from google.colab import drive\n",
        "drive.mount('/content/drive')\n",
        "\n",
        "!pip install pretty_midi\n",
        "!pip install pyfluidsynth\n",
        "!apt-get install fluidsynth\n",
        "!apt-get install graphviz\n",
        "!pip install graphviz pydot"
      ]
    },
    {
      "cell_type": "code",
      "source": [],
      "metadata": {
        "id": "u1skj_MxG7vt"
      },
      "id": "u1skj_MxG7vt",
      "execution_count": 1,
      "outputs": []
    },
    {
      "cell_type": "code",
      "execution_count": 2,
      "id": "aecd37f1-844b-4e25-a285-64b839490fb1",
      "metadata": {
        "id": "aecd37f1-844b-4e25-a285-64b839490fb1",
        "colab": {
          "base_uri": "https://localhost:8080/",
          "height": 36
        },
        "outputId": "2614c80d-bbab-493d-a1ab-d2ff130f4549"
      },
      "outputs": [
        {
          "output_type": "execute_result",
          "data": {
            "text/plain": [
              "\"import warnings\\n# Suppress FutureWarnings\\nwarnings.simplefilter(action='ignore', category=FutureWarning)\""
            ],
            "application/vnd.google.colaboratory.intrinsic+json": {
              "type": "string"
            }
          },
          "metadata": {},
          "execution_count": 2
        }
      ],
      "source": [
        "# Import required libraries\n",
        "import tensorflow as tf\n",
        "import os\n",
        "import numpy as np\n",
        "import pretty_midi\n",
        "import librosa\n",
        "import librosa.display\n",
        "import matplotlib.pyplot as plt\n",
        "import pandas as pd\n",
        "from IPython import display\n",
        "from tensorflow.keras.preprocessing.text import Tokenizer\n",
        "from tensorflow.keras.preprocessing.sequence import pad_sequences\n",
        "from tensorflow.keras.layers import Embedding\n",
        "from sklearn.preprocessing import LabelEncoder\n",
        "from tensorflow.keras.models import Sequential\n",
        "from tensorflow.keras.layers import Conv2D, MaxPooling2D, Flatten, Dense, Dropout, LSTM, TimeDistributed\n",
        "from tensorflow.keras.utils import to_categorical\n",
        "from sklearn.model_selection import train_test_split\n",
        "from collections import defaultdict, Counter\n",
        "from tensorflow.keras.utils import plot_model\n",
        "from sklearn.metrics import accuracy_score, precision_score, recall_score, f1_score\n",
        "from sklearn.metrics import roc_curve, roc_auc_score, confusion_matrix,classification_report\n",
        "import seaborn as sns\n",
        "import pickle\n",
        "from scipy.stats import mode\n",
        "\n",
        "# Set seed\n",
        "np.random.seed(42)\n",
        "\n",
        "\"\"\"import warnings\n",
        "# Suppress FutureWarnings\n",
        "warnings.simplefilter(action='ignore', category=FutureWarning)\"\"\""
      ]
    },
    {
      "cell_type": "markdown",
      "id": "05cbbe16-b9db-4b03-a7c9-812ebe32fff5",
      "metadata": {
        "id": "05cbbe16-b9db-4b03-a7c9-812ebe32fff5"
      },
      "source": [
        "#### Define globals"
      ]
    },
    {
      "cell_type": "code",
      "execution_count": 3,
      "id": "368d648e-586e-4241-9be9-c625d22ddba8",
      "metadata": {
        "id": "368d648e-586e-4241-9be9-c625d22ddba8"
      },
      "outputs": [],
      "source": [
        "\n",
        "data_directory = '/content/drive/MyDrive/USD/AAI_511/FinalProject/AAI_511_DeepLearning/data'  #dataset path cloud\n",
        "#data_directory = './/data'  #dataset path local\n",
        "# Define the sampling rate\n",
        "_SAMPLING_RATE = 44100  # Standard audio sampling rate\n",
        "# SEquence lenght for pitch\n",
        "sequence_length = 100"
      ]
    },
    {
      "cell_type": "markdown",
      "id": "9f883576-9a4b-45fd-a8cb-c0dcbeb71110",
      "metadata": {
        "id": "9f883576-9a4b-45fd-a8cb-c0dcbeb71110"
      },
      "source": [
        "### Data Pre-processing\n",
        "\n",
        "\n",
        "#### Helper functions"
      ]
    },
    {
      "cell_type": "code",
      "execution_count": 4,
      "id": "316cc38c-1eea-47d2-891d-b2eeb22aa9e9",
      "metadata": {
        "id": "316cc38c-1eea-47d2-891d-b2eeb22aa9e9"
      },
      "outputs": [],
      "source": [
        "# Function to load midi files, composer labels and compser map in seperate arrays\n",
        "\n",
        "def load_midi_data_and_labels(directory):\n",
        "    skipped_files = []    # Keep track of skipped files due to errors\n",
        "    data = []\n",
        "    composers = []\n",
        "    num_composer_map = {}\n",
        "    # Function to recursively iterate files in a directory\n",
        "    def iterate_dir(dir_path, label, composer):\n",
        "        # Check direct .mid files in current directory\n",
        "        for item in os.listdir(dir_path):\n",
        "            item_path = os.path.join(dir_path, item)\n",
        "            if os.path.isfile(item_path) and item_path.endswith('.mid'):\n",
        "                try:\n",
        "                    # Load the MIDI file\n",
        "                    midi_data = pretty_midi.PrettyMIDI(item_path)\n",
        "                    data.append(midi_data)\n",
        "                    composers.append(label)\n",
        "                except Exception as e:  # Catch any exception that might be raised\n",
        "                    print(f\"Skipping file {item_path} due to an error: {e}\")\n",
        "                    skipped_files.append(item_path)\n",
        "            elif os.path.isdir(item_path):\n",
        "                iterate_dir(item_path, label, composer)\n",
        "        print(f\"Number of files skipped due to error: {len(skipped_files)}\")\n",
        "        return\n",
        "\n",
        "    # Process each composer's directory in the root directory\n",
        "    for label, composer in enumerate(sorted(os.listdir(directory))):\n",
        "        composer_path = os.path.join(directory, composer)\n",
        "        if os.path.isdir(composer_path):\n",
        "            num_composer_map[label] = composer\n",
        "            iterate_dir(composer_path, label, composer)\n",
        "\n",
        "    return np.array(data), np.array(composers), num_composer_map\n"
      ]
    },
    {
      "cell_type": "code",
      "execution_count": 5,
      "id": "cb03705e-27f1-400b-ba35-6920e65c3c65",
      "metadata": {
        "id": "cb03705e-27f1-400b-ba35-6920e65c3c65"
      },
      "outputs": [],
      "source": [
        "def display_audio(pm: pretty_midi.PrettyMIDI, seconds=30):\n",
        "  waveform = pm.fluidsynth(fs=_SAMPLING_RATE)\n",
        "  # Take a sample of the generated waveform to mitigate kernel resets\n",
        "  waveform_short = waveform[:seconds*_SAMPLING_RATE]\n",
        "  return display.Audio(waveform_short, rate=_SAMPLING_RATE)"
      ]
    },
    {
      "cell_type": "code",
      "execution_count": 6,
      "id": "3fb7456f-a354-45fd-a404-5d69a2ad8fc2",
      "metadata": {
        "colab": {
          "base_uri": "https://localhost:8080/"
        },
        "id": "3fb7456f-a354-45fd-a404-5d69a2ad8fc2",
        "outputId": "608bbd34-cd1e-40e1-8255-1d1d06362646"
      },
      "outputs": [
        {
          "output_type": "stream",
          "name": "stderr",
          "text": [
            "/usr/local/lib/python3.10/dist-packages/pretty_midi/pretty_midi.py:100: RuntimeWarning: Tempo, Key or Time signature change events found on non-zero tracks.  This is not a valid type 0 or type 1 MIDI file.  Tempo, Key or Time Signature may be wrong.\n",
            "  warnings.warn(\n"
          ]
        },
        {
          "output_type": "stream",
          "name": "stdout",
          "text": [
            "Number of files skipped due to error: 0\n",
            "Number of files skipped due to error: 0\n",
            "Number of files skipped due to error: 0\n",
            "Number of files skipped due to error: 0\n",
            "Number of files skipped due to error: 0\n",
            "Number of files skipped due to error: 0\n",
            "Number of files skipped due to error: 0\n",
            "Number of files skipped due to error: 0\n",
            "Number of files skipped due to error: 0\n",
            "Number of files skipped due to error: 0\n",
            "Number of files skipped due to error: 0\n",
            "Number of files skipped due to error: 0\n",
            "Number of files skipped due to error: 0\n",
            "Number of files skipped due to error: 0\n",
            "Number of files skipped due to error: 0\n",
            "Number of files skipped due to error: 0\n",
            "Number of files skipped due to error: 0\n",
            "Number of files skipped due to error: 0\n",
            "Skipping file /content/drive/MyDrive/USD/AAI_511/FinalProject/AAI_511_DeepLearning/data/Beethoven/Anhang 14-3.mid due to an error: Could not decode key with 3 flats and mode 255\n",
            "Number of files skipped due to error: 1\n",
            "Number of files skipped due to error: 1\n",
            "Number of files skipped due to error: 1\n",
            "Number of files skipped due to error: 1\n",
            "Number of files skipped due to error: 1\n",
            "Skipping file /content/drive/MyDrive/USD/AAI_511/FinalProject/AAI_511_DeepLearning/data/Mozart/Piano Sonatas/Nueva carpeta/K281 Piano Sonata n03 3mov.mid due to an error: Could not decode key with 2 flats and mode 2\n",
            "Number of files skipped due to error: 2\n",
            "Number of files skipped due to error: 2\n",
            "Number of files skipped due to error: 2\n",
            "Number of files skipped due to error: 2\n",
            "Number of files skipped due to error: 2\n"
          ]
        }
      ],
      "source": [
        "# Load midi files. Skip the erroneous files.\n",
        "midi_data, composer_labels, composer_map = load_midi_data_and_labels(data_directory)"
      ]
    },
    {
      "cell_type": "code",
      "execution_count": 7,
      "id": "865a97d1-3c54-45b7-9066-4fa233d264b5",
      "metadata": {
        "colab": {
          "base_uri": "https://localhost:8080/"
        },
        "id": "865a97d1-3c54-45b7-9066-4fa233d264b5",
        "outputId": "1b8e6cdb-e251-4b1b-9133-0b9616e87e98"
      },
      "outputs": [
        {
          "output_type": "stream",
          "name": "stdout",
          "text": [
            "Shuffel: 0\n",
            "Shuffel: 1\n"
          ]
        }
      ],
      "source": [
        "# Shuffel midi_data, composer_label few times\n",
        "for i in range(2):\n",
        "  print(\"Shuffel:\", i)\n",
        "  # shuffled indices\n",
        "  indices = np.arange(midi_data.shape[0])\n",
        "  np.random.shuffle(indices)\n",
        "\n",
        "  # Shuffling both midi_data and composer_labels_in using same indices\n",
        "  midi_data = midi_data[indices]\n",
        "  composer_labels = composer_labels[indices]"
      ]
    },
    {
      "cell_type": "code",
      "execution_count": 8,
      "id": "3e34426a-9ea0-4214-bea2-19714054a36e",
      "metadata": {
        "colab": {
          "base_uri": "https://localhost:8080/",
          "height": 54
        },
        "id": "3e34426a-9ea0-4214-bea2-19714054a36e",
        "outputId": "73bd848a-ab10-41a7-884f-d08c3efcb7b9"
      },
      "outputs": [
        {
          "output_type": "execute_result",
          "data": {
            "text/plain": [
              "'################### Quick Test#############################################################################################################################\\n\\nmidi_data = midi_data[0:30]\\ncomposer_labels = composer_labels[0:30]\\n'"
            ],
            "application/vnd.google.colaboratory.intrinsic+json": {
              "type": "string"
            }
          },
          "metadata": {},
          "execution_count": 8
        }
      ],
      "source": [
        "\"\"\"################### Quick Test#############################################################################################################################\n",
        "\n",
        "midi_data = midi_data[0:30]\n",
        "composer_labels = composer_labels[0:30]\n",
        "\"\"\""
      ]
    },
    {
      "cell_type": "code",
      "execution_count": 9,
      "id": "f43abbd5-0e5c-4ed6-9662-d2afc47e31fb",
      "metadata": {
        "colab": {
          "base_uri": "https://localhost:8080/"
        },
        "id": "f43abbd5-0e5c-4ed6-9662-d2afc47e31fb",
        "outputId": "eca43d6b-dc24-4da5-8363-34b170960b92"
      },
      "outputs": [
        {
          "output_type": "execute_result",
          "data": {
            "text/plain": [
              "(1528,)"
            ]
          },
          "metadata": {},
          "execution_count": 9
        }
      ],
      "source": [
        "midi_data.shape"
      ]
    },
    {
      "cell_type": "code",
      "execution_count": 10,
      "id": "10e8d690-2ee4-46c7-a99e-b0e81cf5f84f",
      "metadata": {
        "id": "10e8d690-2ee4-46c7-a99e-b0e81cf5f84f"
      },
      "outputs": [],
      "source": [
        "# Play first loaded midi file\n",
        "#display_audio(midi_data[0])"
      ]
    },
    {
      "cell_type": "markdown",
      "id": "eb364009-100e-4eba-a087-daf0fe65d3e1",
      "metadata": {
        "id": "eb364009-100e-4eba-a087-daf0fe65d3e1"
      },
      "source": [
        "### Data Augmentation\n",
        "\n",
        "To address dataset imbalance, we augmented our training data for composers Beethoven, Mozart, and Chopin by applying data augmentation techniques like time stretching to MIDI files, thereby maintaining pitch but altering tempo. This increased the data volume and variety, capturing a broader stylistic spectrum. Simultaneously, we reduced the over-represented Bach files to balance the dataset, ensuring our model trains evenly across various composers, minimizing stylistic biases and improving its generalization capabilities."
      ]
    },
    {
      "cell_type": "code",
      "execution_count": 11,
      "id": "a5c6c874-4d57-4075-8066-61a38d9ac407",
      "metadata": {
        "id": "a5c6c874-4d57-4075-8066-61a38d9ac407"
      },
      "outputs": [],
      "source": [
        "# Function to change note's temoral feature\n",
        "def time_stretch_midi(data, stretching_factor):\n",
        "    new_midi = copy_midi(data)\n",
        "    for instrument in new_midi.instruments:\n",
        "        for note in instrument.notes:\n",
        "            note.start *= stretching_factor\n",
        "            note.end *= stretching_factor\n",
        "    return new_midi"
      ]
    },
    {
      "cell_type": "code",
      "execution_count": 12,
      "id": "9d01946b-6728-4d4f-a274-72b06ca477a9",
      "metadata": {
        "id": "9d01946b-6728-4d4f-a274-72b06ca477a9"
      },
      "outputs": [],
      "source": [
        "import copy\n",
        "\n",
        "# Function to do deep copying newly created MIDI files\n",
        "\n",
        "def copy_midi(original_midi):\n",
        "    # Create a deep copy of the original MIDI data\n",
        "    copied_midi = copy.deepcopy(original_midi)\n",
        "    return copied_midi"
      ]
    },
    {
      "cell_type": "code",
      "execution_count": 13,
      "id": "1f4d3767-8f53-48aa-b341-c7140449737e",
      "metadata": {
        "id": "1f4d3767-8f53-48aa-b341-c7140449737e"
      },
      "outputs": [],
      "source": [
        "# To create new midi files for a composer, we will choose randomly selected sample_percentage midi files for a specific composer and then\n",
        "# use those indexes to augment new midi files using specific feature like note's duration.\n",
        "\n",
        "\n",
        "# Helper function to create new midi files\n",
        "def augment_extend_composer_midi_files(composer_labels, composer_label, sample_percentage=0.25):\n",
        "    # Find indices where composer_labels match the desired composer_label\n",
        "    indices = np.where(composer_labels == composer_label)[0]\n",
        "    # Randomly select sample from these indices\n",
        "    sampled_indices = np.random.choice(indices, len(indices), replace=False)\n",
        "    # take sample_percentage % of the sampled_indices\n",
        "    sample_size = int(len(sampled_indices) * sample_percentage)\n",
        "    return sampled_indices[0:sample_size]\n"
      ]
    },
    {
      "cell_type": "code",
      "execution_count": 14,
      "id": "50710dea-46d7-4447-8f2c-f0336ba04c46",
      "metadata": {
        "id": "50710dea-46d7-4447-8f2c-f0336ba04c46"
      },
      "outputs": [],
      "source": [
        "# Helper function to skip midi files\n",
        "def augment_skip_composer_midi_files(composer_labels, composer_label, skip_percentage=0.50):\n",
        "    # Find indices where composer_labels match the desired composer_label\n",
        "    indices = np.where(composer_labels == label_bach)[0]\n",
        "    # Randomly select sample from these indices\n",
        "    sampled_indices = np.random.choice(indices, len(indices), replace=False)\n",
        "    sample_size = int(len(sampled_indices) * skip_percentage)\n",
        "    skip_indices = sampled_indices[0:sample_size]\n",
        "    return skip_indices"
      ]
    },
    {
      "cell_type": "code",
      "execution_count": 15,
      "id": "35ad52c9-8592-4199-b25f-57b2b47ae4ed",
      "metadata": {
        "colab": {
          "base_uri": "https://localhost:8080/"
        },
        "id": "35ad52c9-8592-4199-b25f-57b2b47ae4ed",
        "outputId": "753b1e3a-cc50-4142-d887-8f91eecb5556"
      },
      "outputs": [
        {
          "output_type": "stream",
          "name": "stdout",
          "text": [
            "Before MIDI file augmentaion:\n",
            "composer: Bach,  Sample Size: 925\n",
            "composer: Beethoven,  Sample Size: 211\n",
            "composer: Chopin,  Sample Size: 136\n",
            "composer: Mozart,  Sample Size: 256\n"
          ]
        }
      ],
      "source": [
        "unique_composer, counts = np.unique(composer_labels, return_counts=True)\n",
        "print(\"Before MIDI file augmentaion:\")\n",
        "for composer, count in zip(unique_composer, counts):\n",
        "    print(f'composer: {composer_map[composer]},  Sample Size: {count}')"
      ]
    },
    {
      "cell_type": "code",
      "execution_count": 16,
      "id": "73a15675-b8d9-4db3-9a62-7e13cc5e6beb",
      "metadata": {
        "colab": {
          "base_uri": "https://localhost:8080/",
          "height": 607
        },
        "id": "73a15675-b8d9-4db3-9a62-7e13cc5e6beb",
        "outputId": "933d345c-d5e5-4393-bbdf-311233fa589e"
      },
      "outputs": [
        {
          "output_type": "display_data",
          "data": {
            "text/plain": [
              "<Figure size 1000x600 with 1 Axes>"
            ],
            "image/png": "[encoded data removed]"
          },
          "metadata": {}
        }
      ],
      "source": [
        "# Plot MIDI data distribution before augmentaion\n",
        "# Convert list to pandas Series\n",
        "composer_series = pd.Series(composer_labels)\n",
        "# Count of each label\n",
        "label_counts = composer_series.value_counts().sort_index()\n",
        "# Map label counts to composer names\n",
        "composer_counts = label_counts.rename(index=composer_map)\n",
        "\n",
        "# Plotting the data\n",
        "plt.figure(figsize=(10, 6))\n",
        "composer_counts.plot(kind='bar', color='teal')\n",
        "plt.xlabel('Composers')\n",
        "plt.ylabel('Number of MIDI Files')\n",
        "plt.title('Distribution of MIDI Files Before Augmentaion')\n",
        "plt.xticks(rotation=45)\n",
        "plt.tight_layout()  # Adjust layout to make room for rotated x-axis labels\n",
        "plt.show()"
      ]
    },
    {
      "cell_type": "code",
      "execution_count": 17,
      "id": "0cefb944-ff7c-42f5-a002-99f17d6954cb",
      "metadata": {
        "id": "0cefb944-ff7c-42f5-a002-99f17d6954cb"
      },
      "outputs": [],
      "source": [
        "# Augmentation - skip 60% of midi_files for Bach\n",
        "skip_percentage = 0.60\n",
        "label_bach = 0\n",
        "data_reduced = []\n",
        "labels_reduced = []\n",
        "skip_indices = augment_skip_composer_midi_files(composer_labels, label_bach, skip_percentage)\n",
        "# Remove elements at specified indices\n",
        "data_reduced = np.delete(midi_data, skip_indices)\n",
        "labels_reduced = np.delete(composer_labels, skip_indices)"
      ]
    },
    {
      "cell_type": "code",
      "execution_count": 18,
      "id": "74b6ae0b-264b-4763-b15e-bda5aea6e768",
      "metadata": {
        "colab": {
          "base_uri": "https://localhost:8080/"
        },
        "id": "74b6ae0b-264b-4763-b15e-bda5aea6e768",
        "outputId": "ec577802-88db-4fce-d077-3ff197732a32"
      },
      "outputs": [
        {
          "output_type": "stream",
          "name": "stdout",
          "text": [
            "After Bach MIDI files removed:\n",
            "composer: Bach,  sample size: 370\n",
            "composer: Beethoven,  sample size: 211\n",
            "composer: Chopin,  sample size: 136\n",
            "composer: Mozart,  sample size: 256\n"
          ]
        }
      ],
      "source": [
        "unique_composer, counts = np.unique(labels_reduced, return_counts=True)\n",
        "print(\"After Bach MIDI files removed:\")\n",
        "for composer, count in zip(unique_composer, counts):\n",
        "    print(f'composer: {composer_map[composer]},  sample size: {count}')"
      ]
    },
    {
      "cell_type": "code",
      "execution_count": 19,
      "id": "917f8e05-0923-42dc-82e1-882c82f6df53",
      "metadata": {
        "colab": {
          "base_uri": "https://localhost:8080/"
        },
        "id": "917f8e05-0923-42dc-82e1-882c82f6df53",
        "outputId": "2dd68a3f-9217-4fed-d585-d0c645554625"
      },
      "outputs": [
        {
          "output_type": "execute_result",
          "data": {
            "text/plain": [
              "{0: 'Bach', 1: 'Beethoven', 2: 'Chopin', 3: 'Mozart'}"
            ]
          },
          "metadata": {},
          "execution_count": 19
        }
      ],
      "source": [
        "composer_map"
      ]
    },
    {
      "cell_type": "code",
      "execution_count": 20,
      "id": "ea71f1b5-f694-475a-b8f2-9aad4ae59314",
      "metadata": {
        "id": "ea71f1b5-f694-475a-b8f2-9aad4ae59314"
      },
      "outputs": [],
      "source": [
        "# Augmentation - create new 50% of midi_files for Beethoven, Chopin, and Mozart\n",
        "data_extended = []\n",
        "labels_extended = []\n",
        "\n",
        "# Get the labels of composer for which midi_files need to be augmented\n",
        "extend_midifiles_for = []\n",
        "for key, value in composer_map.items():\n",
        "        if value == 'Beethoven' or value == 'Chopin' or value == 'Mozart':\n",
        "            extend_midifiles_for.append(key)"
      ]
    },
    {
      "cell_type": "code",
      "execution_count": 21,
      "id": "2c5d3350-f8e6-482c-90ca-e9164bab23d7",
      "metadata": {
        "colab": {
          "base_uri": "https://localhost:8080/"
        },
        "id": "2c5d3350-f8e6-482c-90ca-e9164bab23d7",
        "outputId": "c6bf799c-d161-4dc7-c247-685448fdacfe"
      },
      "outputs": [
        {
          "output_type": "stream",
          "name": "stdout",
          "text": [
            "Composer  Beethoven sample size =  116\n",
            "Composer  Chopin sample size =  136\n",
            "Composer  Mozart sample size =  102\n",
            "Composer  Chopin sample size =  68\n"
          ]
        }
      ],
      "source": [
        "# Append the new midi files and labels in lists\n",
        "\n",
        "def augment_MIDI_temporal(composer_labels, composer_label_index, extend_percentage, time_stretch):\n",
        "    composer_indices = augment_extend_composer_midi_files(composer_labels, composer_label_index, extend_percentage)\n",
        "    print(\"Composer \", composer_map[composer_label_index], \"sample size = \", len(composer_indices))\n",
        "    for i in composer_indices:\n",
        "        stretched_midi = time_stretch_midi(midi_data[i], time_stretch)\n",
        "        data_extended.append(stretched_midi)\n",
        "        labels_extended.append(composer_label_index)\n",
        "\n",
        "#Beethoven: augment 55% more than the current capacity by temoral reduction to 50%.\n",
        "augment_MIDI_temporal(composer_labels, composer_label_index=1, extend_percentage = 0.55, time_stretch = 0.50) # reduce 50%\n",
        "#Chopin: augment 100% more (double) than the current capacity by temoral reduction to 50%.\n",
        "augment_MIDI_temporal(composer_labels, composer_label_index=2, extend_percentage = 1.0, time_stretch = 0.50)\n",
        "#Mozart : augment 40% more than the current capacity by temoral reduction to 50%.\n",
        "augment_MIDI_temporal(composer_labels, composer_label_index=3, extend_percentage = 0.40, time_stretch = 0.50)\n",
        "#Chopin : augment 50% more than the current capacity by temoral increment to 50%.\n",
        "augment_MIDI_temporal(composer_labels, composer_label_index=2, extend_percentage = 0.5, time_stretch = 1.50) # increase 50%\n"
      ]
    },
    {
      "cell_type": "code",
      "execution_count": 22,
      "id": "faaaa4e9-890e-422a-aca1-13d4c8e28305",
      "metadata": {
        "id": "faaaa4e9-890e-422a-aca1-13d4c8e28305"
      },
      "outputs": [],
      "source": [
        "#display_audio(data_extended[0])"
      ]
    },
    {
      "cell_type": "code",
      "execution_count": 23,
      "id": "118162c1-32d2-43a8-8d7b-02fdd2a6ca89",
      "metadata": {
        "id": "118162c1-32d2-43a8-8d7b-02fdd2a6ca89"
      },
      "outputs": [],
      "source": [
        "midi_data_augmented = []\n",
        "composer_labels_augmented = []\n",
        "midi_data_augmented = np.append(data_reduced, data_extended)\n",
        "composer_labels_augmented = np.append(labels_reduced, labels_extended)"
      ]
    },
    {
      "cell_type": "code",
      "execution_count": 24,
      "id": "230b4594-9e6e-479b-a842-05b80a900891",
      "metadata": {
        "colab": {
          "base_uri": "https://localhost:8080/"
        },
        "id": "230b4594-9e6e-479b-a842-05b80a900891",
        "outputId": "c664b788-9d09-489e-eb66-2ce2f9bfff8d"
      },
      "outputs": [
        {
          "output_type": "stream",
          "name": "stdout",
          "text": [
            "(1395,)\n",
            "1395\n"
          ]
        }
      ],
      "source": [
        "print(midi_data_augmented.shape)\n",
        "print(len(composer_labels_augmented))"
      ]
    },
    {
      "cell_type": "code",
      "execution_count": 25,
      "id": "c613becb-9781-4b67-bb01-9f02bc84c438",
      "metadata": {
        "colab": {
          "base_uri": "https://localhost:8080/"
        },
        "id": "c613becb-9781-4b67-bb01-9f02bc84c438",
        "outputId": "71b2f784-13a0-4d71-e304-c0dcdf2bcdb2"
      },
      "outputs": [
        {
          "output_type": "stream",
          "name": "stdout",
          "text": [
            "After MIDI file augmentaion:\n",
            "composer: Bach,  sample size: 370\n",
            "composer: Beethoven,  sample size: 327\n",
            "composer: Chopin,  sample size: 340\n",
            "composer: Mozart,  sample size: 358\n"
          ]
        }
      ],
      "source": [
        "unique_composer, counts = np.unique(composer_labels_augmented, return_counts=True)\n",
        "print(\"After MIDI file augmentaion:\")\n",
        "for composer, count in zip(unique_composer, counts):\n",
        "    print(f'composer: {composer_map[composer]},  sample size: {count}')"
      ]
    },
    {
      "cell_type": "code",
      "execution_count": 26,
      "id": "4adcc4d3-8bb9-477d-8064-cc8ea4519eea",
      "metadata": {
        "colab": {
          "base_uri": "https://localhost:8080/",
          "height": 607
        },
        "id": "4adcc4d3-8bb9-477d-8064-cc8ea4519eea",
        "outputId": "b4b4002a-b7ef-4cfa-f627-ee6aafe9e4aa"
      },
      "outputs": [
        {
          "output_type": "display_data",
          "data": {
            "text/plain": [
              "<Figure size 1000x600 with 1 Axes>"
            ],
            "image/png": "[encoded data removed]"
          },
          "metadata": {}
        }
      ],
      "source": [
        "# Plot MIDI data distribution after augmentaion\n",
        "\n",
        "# Convert list to pandas Series\n",
        "composer_series = pd.Series(composer_labels_augmented)\n",
        "# Count of each label\n",
        "label_counts = composer_series.value_counts().sort_index()\n",
        "# Map label counts to composer names\n",
        "composer_counts = label_counts.rename(index=composer_map)\n",
        "\n",
        "# Plotting the data\n",
        "plt.figure(figsize=(10, 6))\n",
        "composer_counts.plot(kind='bar', color='teal')\n",
        "plt.xlabel('Composers')\n",
        "plt.ylabel('Number of MIDI Files')\n",
        "plt.title('Distribution of MIDI Files After Augmentaion')\n",
        "plt.xticks(rotation=45)\n",
        "plt.tight_layout()  # Adjust layout to make room for rotated x-axis labels\n",
        "plt.show()"
      ]
    },
    {
      "cell_type": "code",
      "execution_count": 26,
      "id": "021324d5-943b-40b7-b8a8-91470c90bc71",
      "metadata": {
        "id": "021324d5-943b-40b7-b8a8-91470c90bc71"
      },
      "outputs": [],
      "source": []
    },
    {
      "cell_type": "markdown",
      "id": "2dc3a675-0fc6-43a1-8538-bf6294616316",
      "metadata": {
        "id": "2dc3a675-0fc6-43a1-8538-bf6294616316"
      },
      "source": [
        "## Data Pre-processing:\n",
        "\n",
        "Convert the musical scores into a format suitable for deep learning models. This involves converting the musical scores into MIDI\n",
        "files and applying data augmentation techniques.\n"
      ]
    },
    {
      "cell_type": "code",
      "execution_count": 26,
      "id": "8bba296b-168e-4f06-aceb-1d418563e95d",
      "metadata": {
        "id": "8bba296b-168e-4f06-aceb-1d418563e95d"
      },
      "outputs": [],
      "source": []
    },
    {
      "cell_type": "markdown",
      "id": "348d8f46-b428-4c44-87ee-283d8b078240",
      "metadata": {
        "id": "348d8f46-b428-4c44-87ee-283d8b078240"
      },
      "source": [
        "## EDA"
      ]
    },
    {
      "cell_type": "code",
      "execution_count": 26,
      "id": "45c210d7-3b93-470e-b26d-f3801a667129",
      "metadata": {
        "id": "45c210d7-3b93-470e-b26d-f3801a667129"
      },
      "outputs": [],
      "source": []
    },
    {
      "cell_type": "code",
      "execution_count": 26,
      "id": "71e270ae-e90c-46f8-a004-c8f29bfbacc6",
      "metadata": {
        "id": "71e270ae-e90c-46f8-a004-c8f29bfbacc6"
      },
      "outputs": [],
      "source": []
    },
    {
      "cell_type": "markdown",
      "id": "b3bfa3c6-ed1a-4bbe-b4cd-16b3a2443ebe",
      "metadata": {
        "id": "b3bfa3c6-ed1a-4bbe-b4cd-16b3a2443ebe"
      },
      "source": [
        "# 1. Convolutional Neural Networks (CNN)"
      ]
    },
    {
      "cell_type": "markdown",
      "id": "79e4596d-12d7-412d-98d4-bac03332d89d",
      "metadata": {
        "id": "79e4596d-12d7-412d-98d4-bac03332d89d"
      },
      "source": [
        "### Feature Extraction"
      ]
    },
    {
      "cell_type": "code",
      "execution_count": 26,
      "id": "dbd2717a-154b-4ce9-a0d0-7f649ce5fc39",
      "metadata": {
        "id": "dbd2717a-154b-4ce9-a0d0-7f649ce5fc39"
      },
      "outputs": [],
      "source": []
    },
    {
      "cell_type": "code",
      "execution_count": 26,
      "id": "26760c1d-7471-4b43-8d50-48d0e6fd4092",
      "metadata": {
        "id": "26760c1d-7471-4b43-8d50-48d0e6fd4092"
      },
      "outputs": [],
      "source": []
    },
    {
      "cell_type": "code",
      "execution_count": 26,
      "id": "5b0d81d1-8f95-4d14-8bae-a274e7740e2b",
      "metadata": {
        "id": "5b0d81d1-8f95-4d14-8bae-a274e7740e2b"
      },
      "outputs": [],
      "source": []
    },
    {
      "cell_type": "markdown",
      "id": "ebe9ff0b-c152-49a4-9e1b-55f818b83f4c",
      "metadata": {
        "id": "ebe9ff0b-c152-49a4-9e1b-55f818b83f4c"
      },
      "source": [
        "# 2. Long Short-Term Memory networks(LSTM) Method 1/2"
      ]
    },
    {
      "cell_type": "markdown",
      "id": "1ef66884-03e2-4451-8cf4-a0c93a155ed9",
      "metadata": {
        "id": "1ef66884-03e2-4451-8cf4-a0c93a155ed9"
      },
      "source": [
        "## Feature Extraction:\n",
        "\n"
      ]
    },
    {
      "cell_type": "code",
      "execution_count": 26,
      "id": "749e45e3-b5cd-420a-a0ab-afed7a11fda3",
      "metadata": {
        "id": "749e45e3-b5cd-420a-a0ab-afed7a11fda3"
      },
      "outputs": [],
      "source": []
    },
    {
      "cell_type": "code",
      "execution_count": 26,
      "id": "42fbbbe7-1d28-4035-8ec5-561218601a7a",
      "metadata": {
        "id": "42fbbbe7-1d28-4035-8ec5-561218601a7a"
      },
      "outputs": [],
      "source": []
    },
    {
      "cell_type": "code",
      "execution_count": 26,
      "id": "29f30c6a-b81f-48fb-a1e6-4ef6006e9a61",
      "metadata": {
        "id": "29f30c6a-b81f-48fb-a1e6-4ef6006e9a61"
      },
      "outputs": [],
      "source": []
    },
    {
      "cell_type": "markdown",
      "id": "9d0fd69b-0a38-49ae-b819-5545b7ee1e09",
      "metadata": {
        "id": "9d0fd69b-0a38-49ae-b819-5545b7ee1e09"
      },
      "source": [
        "# 3. Long Short-Term Memory networks(LSTM) Method 2/2"
      ]
    },
    {
      "cell_type": "code",
      "execution_count": 27,
      "id": "ceb729bd-4058-4fab-88cb-482b88b95195",
      "metadata": {
        "id": "ceb729bd-4058-4fab-88cb-482b88b95195"
      },
      "outputs": [],
      "source": [
        "class ComposerClassification_LSTM_Ngram:\n",
        "    def __init__(self, dataset, labels, composer_map):\n",
        "        self.composer_data = np.array(dataset)\n",
        "        self.composer_labels = np.array(labels)\n",
        "        self.tokenizer = None\n",
        "        self.lstm_model = None\n",
        "        self.composer_map = composer_map\n",
        "        self.sequence_length = 100\n",
        "\n",
        "    # Shuffle the augmented data few times\n",
        "    def shuffle_data(self):\n",
        "        for i in range(2):\n",
        "          print(\"Shuffle:\", i)\n",
        "          # shuffled indices\n",
        "          indices = np.arange(self.composer_data.shape[0])\n",
        "          np.random.shuffle(indices)\n",
        "          # Shuffling with same indices\n",
        "          self.composer_data   = self.composer_data[indices]\n",
        "          self.composer_labels = self.composer_labels[indices]\n",
        "\n",
        "    # Split the midi_data_augmented data into two part one is to\n",
        "    # train and validate the model and other is to test the model before any data pre-processing and feature extraction.\n",
        "    def keep_unprocessed_data_for_prediction(self, percent = 0.2):\n",
        "        # Calculate split index for 80/20 split\n",
        "        split_index = int(len(self.composer_data) * (1-0.2))\n",
        "\n",
        "        self.composer_data_Train, self.composer_data_Test = np.split(self.composer_data, [split_index])\n",
        "\n",
        "\n",
        "        self.composer_labels_Train, self.composer_labels_Test = np.split(self.composer_labels, [split_index])\n",
        "\n",
        "        print(\"Train Size:\", len(self.composer_data_Train), len(self.composer_labels_Train))\n",
        "\n",
        "        print(\"Test Size:\", len(self.composer_data_Test), len(self.composer_labels_Test))\n",
        "        return (self.composer_data_Train,  self.composer_labels_Train), (self.composer_data_Test, self.composer_labels_Test)\n",
        "\n",
        "    # Plot labels\n",
        "    def plot_train_test_labels(self):\n",
        "        # Plot after rangom shuffles three times\n",
        "        plt.figure(figsize=(8, 6))\n",
        "        plt.plot(self.composer_labels_Train,'ro',  label='Train labels')\n",
        "        plt.plot(self.composer_labels_Test ,'bo', label='Test labels')\n",
        "\n",
        "        # Adding title and labels\n",
        "        plt.title('label variations in train/test ')\n",
        "        plt.xlabel('Index')\n",
        "        plt.ylabel('label')\n",
        "        plt.legend()\n",
        "        plt.show()\n",
        "\n",
        "    # Function to extract pitch sequences from a MIDI file\n",
        "    def extract_pitch_sequences(self, mdata):\n",
        "        sequences = []\n",
        "        # Considering all instruments\n",
        "        for i in np.arange(len(mdata.instruments)):\n",
        "            previous_pitch = None\n",
        "            instrument = mdata.instruments[i]\n",
        "            if not instrument.is_drum:\n",
        "                #pitches = [note.pitch for note in instrument.notes]\n",
        "                # pitches.append(instrument.program)\n",
        "                tokens = []\n",
        "                for note in instrument.notes:\n",
        "                    current_pitch = note.pitch\n",
        "                    if previous_pitch is not None:\n",
        "                        interval = current_pitch - previous_pitch\n",
        "                    else:\n",
        "                        interval = 0  # No interval for the first note\n",
        "                    # Create new token by making a touple of pitch and pitch difference from previous\n",
        "                    #token = (current_pitch, interval)\n",
        "                    # Create new token by adding differnce from previos pitch to the token\n",
        "                    # token = current_pitch + interval\n",
        "                    # Create new token by concatenating current_pitch and interval as strings\n",
        "                    token = str(current_pitch) + str(interval)\n",
        "                    tokens.append(token)\n",
        "                    previous_pitch = current_pitch\n",
        "\n",
        "                sequences.extend(tokens)\n",
        "        return sequences\n",
        "\n",
        "    # create tokens of length sequence_length\n",
        "    def create_n_grams(self, sequences, n):\n",
        "        # Check if the sequence is shorter than the desired n-gram length\n",
        "        if len(sequences) < n:\n",
        "            # Pad the sequence with zeros at the end\n",
        "            sequences = sequences + [0] * (n - len(sequences))\n",
        "        # Generate n-grams\n",
        "        return [' '.join(map(str, sequences[i:i+n])) for i in range(len(sequences) - n + 1)]\n",
        "\n",
        "    # Extract features and labels from full train_set\n",
        "    def create_sequence(self, sequence_len):\n",
        "        self.sequence_length = sequence_len\n",
        "        all_n_grams = []\n",
        "        labels = []\n",
        "        for data, composer in zip(self.composer_data_Train,self.composer_labels_Train):\n",
        "            sequences = self.extract_pitch_sequences(data)\n",
        "            # Ignore short sequences\n",
        "            if(len(sequences) < self.sequence_length):\n",
        "                print(\"Short sequence for \", composer)\n",
        "                continue\n",
        "            n_grams = self.create_n_grams(sequences,self.sequence_length)\n",
        "            all_n_grams.extend(n_grams)\n",
        "            labels.extend([composer] * len(n_grams))\n",
        "\n",
        "        # Tokenization and sequence padding\n",
        "        self.tokenizer = Tokenizer()\n",
        "        self.tokenizer.fit_on_texts(all_n_grams)\n",
        "        sequences = self.tokenizer.texts_to_sequences(all_n_grams)\n",
        "        data = pad_sequences(sequences, maxlen=self.sequence_length)\n",
        "        return (data, labels)\n",
        "\n",
        "    # Save tokenizer. Same tokeniser should be used when testing the composer\n",
        "    def save_tokenizer(self):\n",
        "        # After training and creating the tokenizer\n",
        "        self.tokenizer_name = 'tokenizer.pickle'\n",
        "        with open(self.tokenizer_name, 'wb') as handle:\n",
        "            pickle.dump(self.tokenizer, handle, protocol=pickle.HIGHEST_PROTOCOL)\n",
        "            print(\"Saved tokenizer\", self.tokenizer_name)\n",
        "\n",
        "    # Split dataset for model training, validation, testing\n",
        "    def splitDataset_train_val_test(self, data, labels, test_size=0.30):\n",
        "       # Splitting the dataset\n",
        "        self.X_train_sequence, X_temp, self.y_train_sequence, y_temp = train_test_split(data, labels, test_size=0.30, random_state=42)\n",
        "        self.X_val_sequence,  self.X_test_sequence,  self.y_val_sequence,  self.y_test_sequence = train_test_split(X_temp, y_temp, test_size=0.50, random_state=42)\n",
        "        print(\"Train, val, test size\", len(self.X_train_sequence), len(self.X_val_sequence), len(self.X_test_sequence) )\n",
        "        # Label encoding\n",
        "        label_encoder = LabelEncoder()\n",
        "        self.y_train_sequence = label_encoder.fit_transform(self.y_train_sequence)\n",
        "        self.y_val_sequence = label_encoder.transform(self.y_val_sequence)\n",
        "        self.y_test_sequence  = label_encoder.transform( self.y_test_sequence )\n",
        "        return\n",
        "\n",
        "    def build_lstm2_model(self, input_dim, num_classes):\n",
        "        self.lstm_model = Sequential([\n",
        "            #Embedding(input_dim=input_dim, output_dim=64, input_length=self.sequence_length),\n",
        "            Embedding(input_dim=input_dim, output_dim=64),\n",
        "            LSTM(128, return_sequences=True),\n",
        "            LSTM(128),\n",
        "            Dropout(0.5),\n",
        "            Dense(num_classes, activation='softmax')\n",
        "        ])\n",
        "        # Compile the model\n",
        "        self.lstm_model.compile(optimizer='adam', loss='sparse_categorical_crossentropy', metrics=['accuracy'])\n",
        "\n",
        "        return self.lstm_model\n",
        "\n",
        "    def train_evaluate_model(self, epochs=10, batch_size=256):\n",
        "        # Train the model\n",
        "        history = self.lstm_model.fit(self.X_train_sequence, self.y_train_sequence, epochs=epochs,\n",
        "                                 batch_size=batch_size, validation_data=(self.X_val_sequence, self.y_val_sequence))\n",
        "        test_loss, test_accuracy = self.lstm_model.evaluate(self.X_test_sequence, self.y_test_sequence)\n",
        "        print(\"Test accuracy:\", test_accuracy)\n",
        "        print(\"Test loss:\", test_loss)\n",
        "        return history\n",
        "\n",
        "    def plot_results(self, history):\n",
        "        # Extracting performance metrics\n",
        "        acc = history.history['accuracy']\n",
        "        val_acc = history.history['val_accuracy']\n",
        "\n",
        "        epochs = range(1, len(acc) + 1)\n",
        "        # Plotting all metrics\n",
        "        plt.figure(figsize=(12, 8))\n",
        "        plt.plot(epochs, acc, 'bo-', label='Training Accuracy')\n",
        "        plt.plot(epochs, val_acc, 'go-', label='Validation Accuracy')\n",
        "\n",
        "        plt.title('Training and Validation Accuracy')\n",
        "        plt.xlabel('Epochs')\n",
        "        plt.ylabel('Accuracy')\n",
        "        plt.legend()\n",
        "        plt.show()\n",
        "\n",
        "    # Load the same tokenizer used to train the data\n",
        "    def loadTokenizer(self):\n",
        "        with open(self.tokenizer_name, 'rb') as handle:\n",
        "            self.tokenizer = pickle.load(handle)\n",
        "            return self.tokenizer\n",
        "\n",
        "    # Predict from single midifile\n",
        "    def predict_composer(self, testMidi):\n",
        "        print(\"predict_composer\")\n",
        "        # Extract pitch sequences from the MIDI file\n",
        "        sequences = self.extract_pitch_sequences(testMidi)\n",
        "        n_grams = self.create_n_grams(sequences)\n",
        "\n",
        "        # Tokenize and pad the sequences\n",
        "        tokenizer = self.loadTokenizer()\n",
        "        sequences = tokenizer.texts_to_sequences(n_grams)\n",
        "        padded_sequences = pad_sequences(sequences, maxlen=self.sequence_length)\n",
        "\n",
        "        # Make predictions\n",
        "        predictions = self.lstm_model.predict(padded_sequences)\n",
        "        predicted_index = np.argmax(predictions, axis=1)  #  multiple predictions: take the most common\n",
        "        #predicted_composer = label_encoder.inverse_transform([np.bincount(predicted_index).argmax()])\n",
        "        return predicted_index\n",
        "\n",
        "\n",
        "    def testComposer(self, testMidi, actualLabel):\n",
        "        composer_n_grams = []\n",
        "        composer_label = []\n",
        "        sequences = self.extract_pitch_sequences(testMidi)\n",
        "        n_grams = self.create_n_grams(sequences)\n",
        "        composer_n_grams.extend(n_grams)\n",
        "        composer_label.extend([composer] * len(n_grams))\n",
        "        # Tokenization and sequence padding\n",
        "        tokenizer = self.loadTokenizer()\n",
        "        sequences = tokenizer.texts_to_sequences(composer_n_grams)\n",
        "        data = pad_sequences(sequences, maxlen=self.sequence_length)\n",
        "        return data\n",
        "\n",
        "    # Predict single composer\n",
        "    def test_predict(self, midi_index=0):\n",
        "        test_midi = self.composer_data[midi_index]\n",
        "        actualLabel = self.composer_labels[midi_index]\n",
        "        print(type(test_midi))\n",
        "        predicted_composer_index = self.predict_composer(test_midi)\n",
        "        count = Counter(predicted_composer_index)\n",
        "        sorted_composer = count.most_common()\n",
        "        print(\"Get highest probability of composer:\")\n",
        "        for e, f in sorted_composer:\n",
        "            print(f\"Element: {e}, Frequency: {f}\")\n",
        "\n",
        "        most_frequent = sorted_composer[0][0]\n",
        "        print(f\"Actual composer= {self.composer_map[actualLabel]},\\nThe predicted composer is: {self.composer_map[most_frequent]}\")\n",
        "\n",
        "    ## Predict on unseen test set and evaluate the model\n",
        "    def evaluate_unseen_dataset(self):\n",
        "        predicted_composer = []\n",
        "        # Load Tokenize\n",
        "        tokenizer = self.loadTokenizer()\n",
        "        all_n_grams_test = []\n",
        "        labels_test = []\n",
        "        skip_short_seq = []\n",
        "        i = 0\n",
        "        for index, (data, composer) in enumerate(zip(self.composer_data_Test,self.composer_labels_Test)):\n",
        "            #print(\"composer \", composer, i)\n",
        "            sequences = self.extract_pitch_sequences(data)\n",
        "            # Ignore short sequences\n",
        "            if(len(sequences) < self.sequence_length):\n",
        "                print(\"Short sequence for \", composer)\n",
        "                skip_short_seq.append(index)\n",
        "                continue\n",
        "            n_grams = self.create_n_grams(sequences, self.sequence_length)\n",
        "\n",
        "            all_n_grams_test.extend(n_grams)\n",
        "            labels_test.extend([composer] * len(n_grams))\n",
        "\n",
        "            pitch_token = tokenizer.texts_to_sequences(n_grams)\n",
        "            padded_sequences = pad_sequences(pitch_token, maxlen=self.sequence_length)\n",
        "\n",
        "            # Make predictions\n",
        "            predictions = self.lstm_model.predict(padded_sequences, verbose=0)\n",
        "            predicted_index = np.argmax(predictions, axis=1)  #  multiple predictions: take the most common\n",
        "            predicted_result = mode(predicted_index)\n",
        "            predicted_composer.append(predicted_result.mode)\n",
        "            i = i+ 1\n",
        "        # Remove the rows in skip_short_seq\n",
        "        self.composer_labels_Test = np.delete(self.composer_labels_Test, skip_short_seq)\n",
        "        return predicted_composer\n",
        "\n",
        "    def generate_report(self, predictions):\n",
        "        print(classification_report(self.composer_labels_Test, predictions))\n",
        "\n",
        "        # Confusion matix\n",
        "        cm = confusion_matrix(self.composer_labels_Test, predictions)\n",
        "        plt.figure(figsize=(8, 6))\n",
        "        sns.heatmap(cm, annot=True, fmt='d', cmap='Blues', xticklabels=['Bach' , 'Beethoven', 'Chopin', 'Mozart'], yticklabels=['Bach' , 'Beethoven', 'Chopin', 'Mozart'])\n",
        "        plt.title('Confusion matrix')\n",
        "        plt.ylabel('True Label')\n",
        "        plt.xlabel('Predicted Label')\n",
        "        plt.show()\n",
        "        return\n"
      ]
    },
    {
      "cell_type": "markdown",
      "id": "f4d75c36-cd22-4066-a762-2419b49f6392",
      "metadata": {
        "id": "f4d75c36-cd22-4066-a762-2419b49f6392"
      },
      "source": [
        "## Feature Extraction:\n",
        "\n",
        "Extract features from the MIDI files, such as notes, chords, and tempo, using music analysis tools."
      ]
    },
    {
      "cell_type": "code",
      "execution_count": 28,
      "id": "60ae33e7-f1f7-47c5-a793-56431f01b742",
      "metadata": {
        "id": "60ae33e7-f1f7-47c5-a793-56431f01b742"
      },
      "outputs": [],
      "source": [
        "lstm_classification = ComposerClassification_LSTM_Ngram(midi_data_augmented, composer_labels_augmented, composer_map)"
      ]
    },
    {
      "cell_type": "code",
      "execution_count": 29,
      "id": "6815ad9f-ad4d-4148-85c1-4315b629f6d5",
      "metadata": {
        "colab": {
          "base_uri": "https://localhost:8080/"
        },
        "id": "6815ad9f-ad4d-4148-85c1-4315b629f6d5",
        "outputId": "b1ffbf1a-8633-40ad-f429-eb7ec1448d9a"
      },
      "outputs": [
        {
          "output_type": "stream",
          "name": "stdout",
          "text": [
            "Shuffle: 0\n",
            "Shuffle: 1\n"
          ]
        }
      ],
      "source": [
        "lstm_classification.shuffle_data()"
      ]
    },
    {
      "cell_type": "code",
      "execution_count": 30,
      "id": "16bde88b-1886-4ac3-869e-be522b8f470c",
      "metadata": {
        "colab": {
          "base_uri": "https://localhost:8080/"
        },
        "id": "16bde88b-1886-4ac3-869e-be522b8f470c",
        "outputId": "1caf8f27-0c6e-4523-f4dd-a4bcfd7661fa"
      },
      "outputs": [
        {
          "output_type": "stream",
          "name": "stdout",
          "text": [
            "Train Size: 1116 1116\n",
            "Test Size: 279 279\n",
            "Train set: (1116,) Test set: (279,)\n"
          ]
        }
      ],
      "source": [
        "(train_set, test_set) = lstm_classification.keep_unprocessed_data_for_prediction()\n",
        "print(\"Train set:\", train_set[0].shape, \"Test set:\", test_set[0].shape)"
      ]
    },
    {
      "cell_type": "code",
      "execution_count": 31,
      "id": "d743b8ec-6b7b-4967-b291-c3cd1f7de944",
      "metadata": {
        "colab": {
          "base_uri": "https://localhost:8080/"
        },
        "id": "d743b8ec-6b7b-4967-b291-c3cd1f7de944",
        "outputId": "15346e80-6d91-4f58-94bb-d1f50f35428c"
      },
      "outputs": [
        {
          "output_type": "stream",
          "name": "stdout",
          "text": [
            "(1395,) (1395,)\n"
          ]
        }
      ],
      "source": [
        "print(lstm_classification.composer_data.shape, lstm_classification.composer_labels.shape)"
      ]
    },
    {
      "cell_type": "code",
      "execution_count": 32,
      "id": "4c50f8cf-ec59-4489-bd84-6d67c55c918c",
      "metadata": {
        "colab": {
          "base_uri": "https://localhost:8080/",
          "height": 564
        },
        "id": "4c50f8cf-ec59-4489-bd84-6d67c55c918c",
        "outputId": "5e4b848c-5a97-4e1a-dd96-c28d796a240c"
      },
      "outputs": [
        {
          "output_type": "display_data",
          "data": {
            "text/plain": [
              "<Figure size 800x600 with 1 Axes>"
            ],
            "image/png": "[encoded data removed]"
          },
          "metadata": {}
        }
      ],
      "source": [
        "lstm_classification.plot_train_test_labels()"
      ]
    },
    {
      "cell_type": "code",
      "execution_count": 33,
      "id": "4dab94f0-74f3-4162-8342-34d7c55c8026",
      "metadata": {
        "colab": {
          "base_uri": "https://localhost:8080/"
        },
        "id": "4dab94f0-74f3-4162-8342-34d7c55c8026",
        "outputId": "8e6b2c61-7521-4acd-90ff-3f93459ae9fe"
      },
      "outputs": [
        {
          "output_type": "stream",
          "name": "stdout",
          "text": [
            "Short sequence for  1\n",
            "Data: 4683407 labels: 4683407\n"
          ]
        }
      ],
      "source": [
        "seq_length = 100\n",
        "data, labels = lstm_classification.create_sequence(seq_length)\n",
        "print(\"Data:\", len(data), \"labels:\", len(labels))"
      ]
    },
    {
      "cell_type": "code",
      "execution_count": 34,
      "id": "3e1c8d30-9af3-482e-a972-0baaa20b8b61",
      "metadata": {
        "colab": {
          "base_uri": "https://localhost:8080/"
        },
        "id": "3e1c8d30-9af3-482e-a972-0baaa20b8b61",
        "outputId": "7bcc9986-7604-4eec-f51e-ed368da6dd91"
      },
      "outputs": [
        {
          "output_type": "stream",
          "name": "stdout",
          "text": [
            "Saved tokenizer tokenizer.pickle\n"
          ]
        }
      ],
      "source": [
        "lstm_classification.save_tokenizer()"
      ]
    },
    {
      "cell_type": "code",
      "execution_count": 35,
      "id": "9f09d069-f9ae-4588-b00d-ca5cca01ff4c",
      "metadata": {
        "colab": {
          "base_uri": "https://localhost:8080/"
        },
        "id": "9f09d069-f9ae-4588-b00d-ca5cca01ff4c",
        "outputId": "a260f5b8-a2e0-45e9-9ffd-4918b580f3d7"
      },
      "outputs": [
        {
          "output_type": "stream",
          "name": "stdout",
          "text": [
            "Train, val, test size 3278384 702511 702512\n"
          ]
        }
      ],
      "source": [
        "lstm_classification.splitDataset_train_val_test(data, labels)"
      ]
    },
    {
      "cell_type": "markdown",
      "id": "d6f0f6aa-8850-426f-a94e-8867741390b5",
      "metadata": {
        "id": "d6f0f6aa-8850-426f-a94e-8867741390b5"
      },
      "source": [
        "## LSTM 2 Model Building:\n",
        "\n",
        "Develop a deep learning model using LSTM and CNN architectures to classify the musical scores according to the composer."
      ]
    },
    {
      "cell_type": "code",
      "source": [
        "input_dim = len(np.unique(data, axis=0))\n",
        "output_dim = len(np.unique(labels))"
      ],
      "metadata": {
        "id": "I5H_9haHxH6v"
      },
      "id": "I5H_9haHxH6v",
      "execution_count": 36,
      "outputs": []
    },
    {
      "cell_type": "code",
      "execution_count": 37,
      "id": "f37364fa-d2ee-4f3e-81e8-a324a2afcce5",
      "metadata": {
        "id": "f37364fa-d2ee-4f3e-81e8-a324a2afcce5"
      },
      "outputs": [],
      "source": [
        "# Build the lstm model with enbedding layer as first layer.\n",
        "lstm_model = lstm_classification.build_lstm2_model(input_dim, output_dim)"
      ]
    },
    {
      "cell_type": "markdown",
      "id": "71fbacbc-5154-4707-bc51-e3be5c1b9565",
      "metadata": {
        "id": "71fbacbc-5154-4707-bc51-e3be5c1b9565"
      },
      "source": [
        "## LSTM 2 Model Architecture"
      ]
    },
    {
      "cell_type": "code",
      "execution_count": 38,
      "id": "abd4d2d2-0054-40bc-bf22-e5281dfdf241",
      "metadata": {
        "colab": {
          "base_uri": "https://localhost:8080/",
          "height": 1000
        },
        "id": "abd4d2d2-0054-40bc-bf22-e5281dfdf241",
        "outputId": "a2fcbfb7-293b-40d9-ecd0-552c0f8bcd50"
      },
      "outputs": [
        {
          "output_type": "display_data",
          "data": {
            "text/plain": [
              "\u001b[1mModel: \"sequential\"\u001b[0m\n"
            ],
            "text/html": [
              "<pre style=\"white-space:pre;overflow-x:auto;line-height:normal;font-family:Menlo,'DejaVu Sans Mono',consolas,'Courier New',monospace\"><span style=\"font-weight: bold\">Model: \"sequential\"</span>\n",
              "</pre>\n"
            ]
          },
          "metadata": {}
        },
        {
          "output_type": "display_data",
          "data": {
            "text/plain": [
              "┏━━━━━━━━━━━━━━━━━━━━━━━━━━━━━━━━━━━━━━┳━━━━━━━━━━━━━━━━━━━━━━━━━━━━━┳━━━━━━━━━━━━━━━━━┓\n",
              "┃\u001b[1m \u001b[0m\u001b[1mLayer (type)                        \u001b[0m\u001b[1m \u001b[0m┃\u001b[1m \u001b[0m\u001b[1mOutput Shape               \u001b[0m\u001b[1m \u001b[0m┃\u001b[1m \u001b[0m\u001b[1m        Param #\u001b[0m\u001b[1m \u001b[0m┃\n",
              "┡━━━━━━━━━━━━━━━━━━━━━━━━━━━━━━━━━━━━━━╇━━━━━━━━━━━━━━━━━━━━━━━━━━━━━╇━━━━━━━━━━━━━━━━━┩\n",
              "│ embedding (\u001b[38;5;33mEmbedding\u001b[0m)                │ (\u001b[38;5;45mNone\u001b[0m, \u001b[38;5;34m100\u001b[0m, \u001b[38;5;34m64\u001b[0m)             │     \u001b[38;5;34m199,439,424\u001b[0m │\n",
              "├──────────────────────────────────────┼─────────────────────────────┼─────────────────┤\n",
              "│ lstm (\u001b[38;5;33mLSTM\u001b[0m)                          │ (\u001b[38;5;45mNone\u001b[0m, \u001b[38;5;34m100\u001b[0m, \u001b[38;5;34m128\u001b[0m)            │          \u001b[38;5;34m98,816\u001b[0m │\n",
              "├──────────────────────────────────────┼─────────────────────────────┼─────────────────┤\n",
              "│ lstm_1 (\u001b[38;5;33mLSTM\u001b[0m)                        │ (\u001b[38;5;45mNone\u001b[0m, \u001b[38;5;34m128\u001b[0m)                 │         \u001b[38;5;34m131,584\u001b[0m │\n",
              "├──────────────────────────────────────┼─────────────────────────────┼─────────────────┤\n",
              "│ dropout (\u001b[38;5;33mDropout\u001b[0m)                    │ (\u001b[38;5;45mNone\u001b[0m, \u001b[38;5;34m128\u001b[0m)                 │               \u001b[38;5;34m0\u001b[0m │\n",
              "├──────────────────────────────────────┼─────────────────────────────┼─────────────────┤\n",
              "│ dense (\u001b[38;5;33mDense\u001b[0m)                        │ (\u001b[38;5;45mNone\u001b[0m, \u001b[38;5;34m4\u001b[0m)                   │             \u001b[38;5;34m516\u001b[0m │\n",
              "└──────────────────────────────────────┴─────────────────────────────┴─────────────────┘\n"
            ],
            "text/html": [
              "<pre style=\"white-space:pre;overflow-x:auto;line-height:normal;font-family:Menlo,'DejaVu Sans Mono',consolas,'Courier New',monospace\">┏━━━━━━━━━━━━━━━━━━━━━━━━━━━━━━━━━━━━━━┳━━━━━━━━━━━━━━━━━━━━━━━━━━━━━┳━━━━━━━━━━━━━━━━━┓\n",
              "┃<span style=\"font-weight: bold\"> Layer (type)                         </span>┃<span style=\"font-weight: bold\"> Output Shape                </span>┃<span style=\"font-weight: bold\">         Param # </span>┃\n",
              "┡━━━━━━━━━━━━━━━━━━━━━━━━━━━━━━━━━━━━━━╇━━━━━━━━━━━━━━━━━━━━━━━━━━━━━╇━━━━━━━━━━━━━━━━━┩\n",
              "│ embedding (<span style=\"color: #0087ff; text-decoration-color: #0087ff\">Embedding</span>)                │ (<span style=\"color: #00d7ff; text-decoration-color: #00d7ff\">None</span>, <span style=\"color: #00af00; text-decoration-color: #00af00\">100</span>, <span style=\"color: #00af00; text-decoration-color: #00af00\">64</span>)             │     <span style=\"color: #00af00; text-decoration-color: #00af00\">199,439,424</span> │\n",
              "├──────────────────────────────────────┼─────────────────────────────┼─────────────────┤\n",
              "│ lstm (<span style=\"color: #0087ff; text-decoration-color: #0087ff\">LSTM</span>)                          │ (<span style=\"color: #00d7ff; text-decoration-color: #00d7ff\">None</span>, <span style=\"color: #00af00; text-decoration-color: #00af00\">100</span>, <span style=\"color: #00af00; text-decoration-color: #00af00\">128</span>)            │          <span style=\"color: #00af00; text-decoration-color: #00af00\">98,816</span> │\n",
              "├──────────────────────────────────────┼─────────────────────────────┼─────────────────┤\n",
              "│ lstm_1 (<span style=\"color: #0087ff; text-decoration-color: #0087ff\">LSTM</span>)                        │ (<span style=\"color: #00d7ff; text-decoration-color: #00d7ff\">None</span>, <span style=\"color: #00af00; text-decoration-color: #00af00\">128</span>)                 │         <span style=\"color: #00af00; text-decoration-color: #00af00\">131,584</span> │\n",
              "├──────────────────────────────────────┼─────────────────────────────┼─────────────────┤\n",
              "│ dropout (<span style=\"color: #0087ff; text-decoration-color: #0087ff\">Dropout</span>)                    │ (<span style=\"color: #00d7ff; text-decoration-color: #00d7ff\">None</span>, <span style=\"color: #00af00; text-decoration-color: #00af00\">128</span>)                 │               <span style=\"color: #00af00; text-decoration-color: #00af00\">0</span> │\n",
              "├──────────────────────────────────────┼─────────────────────────────┼─────────────────┤\n",
              "│ dense (<span style=\"color: #0087ff; text-decoration-color: #0087ff\">Dense</span>)                        │ (<span style=\"color: #00d7ff; text-decoration-color: #00d7ff\">None</span>, <span style=\"color: #00af00; text-decoration-color: #00af00\">4</span>)                   │             <span style=\"color: #00af00; text-decoration-color: #00af00\">516</span> │\n",
              "└──────────────────────────────────────┴─────────────────────────────┴─────────────────┘\n",
              "</pre>\n"
            ]
          },
          "metadata": {}
        },
        {
          "output_type": "display_data",
          "data": {
            "text/plain": [
              "\u001b[1m Total params: \u001b[0m\u001b[38;5;34m199,670,340\u001b[0m (761.68 MB)\n"
            ],
            "text/html": [
              "<pre style=\"white-space:pre;overflow-x:auto;line-height:normal;font-family:Menlo,'DejaVu Sans Mono',consolas,'Courier New',monospace\"><span style=\"font-weight: bold\"> Total params: </span><span style=\"color: #00af00; text-decoration-color: #00af00\">199,670,340</span> (761.68 MB)\n",
              "</pre>\n"
            ]
          },
          "metadata": {}
        },
        {
          "output_type": "display_data",
          "data": {
            "text/plain": [
              "\u001b[1m Trainable params: \u001b[0m\u001b[38;5;34m199,670,340\u001b[0m (761.68 MB)\n"
            ],
            "text/html": [
              "<pre style=\"white-space:pre;overflow-x:auto;line-height:normal;font-family:Menlo,'DejaVu Sans Mono',consolas,'Courier New',monospace\"><span style=\"font-weight: bold\"> Trainable params: </span><span style=\"color: #00af00; text-decoration-color: #00af00\">199,670,340</span> (761.68 MB)\n",
              "</pre>\n"
            ]
          },
          "metadata": {}
        },
        {
          "output_type": "display_data",
          "data": {
            "text/plain": [
              "\u001b[1m Non-trainable params: \u001b[0m\u001b[38;5;34m0\u001b[0m (0.00 B)\n"
            ],
            "text/html": [
              "<pre style=\"white-space:pre;overflow-x:auto;line-height:normal;font-family:Menlo,'DejaVu Sans Mono',consolas,'Courier New',monospace\"><span style=\"font-weight: bold\"> Non-trainable params: </span><span style=\"color: #00af00; text-decoration-color: #00af00\">0</span> (0.00 B)\n",
              "</pre>\n"
            ]
          },
          "metadata": {}
        },
        {
          "output_type": "execute_result",
          "data": {
            "image/png": "[encoded data removed]",
            "text/plain": [
              "<IPython.core.display.Image object>"
            ]
          },
          "metadata": {},
          "execution_count": 38
        }
      ],
      "source": [
        "# Create model summary and visualize\n",
        "# None for batch size, sequence_length for feature size\n",
        "lstm_model.build((None, sequence_length))\n",
        "lstm_model.summary()\n",
        "plot_model(lstm_model, show_shapes=True, show_layer_names=True)"
      ]
    },
    {
      "cell_type": "code",
      "execution_count": 38,
      "id": "0026e12a-fa43-4bd2-97f0-3eaba5bf8ef2",
      "metadata": {
        "id": "0026e12a-fa43-4bd2-97f0-3eaba5bf8ef2"
      },
      "outputs": [],
      "source": []
    },
    {
      "cell_type": "markdown",
      "id": "71d3fe7a-1d64-4521-bd46-4ea934b26c84",
      "metadata": {
        "id": "71d3fe7a-1d64-4521-bd46-4ea934b26c84"
      },
      "source": [
        "## LSTM 2 Model Training\n",
        "\n",
        "For LSTM model we use sparse_categorical_crossentropy as the loss function. This loss function is designed to handle integer targets directly, interpreting the integer as the index of the true class.\n"
      ]
    },
    {
      "cell_type": "code",
      "execution_count": 39,
      "id": "d9446736-d9ef-4ba6-ae06-56de0f67efe8",
      "metadata": {
        "colab": {
          "base_uri": "https://localhost:8080/"
        },
        "id": "d9446736-d9ef-4ba6-ae06-56de0f67efe8",
        "scrolled": true,
        "outputId": "c557b591-92ac-4e1d-8b3b-6df52687246b"
      },
      "outputs": [
        {
          "output_type": "stream",
          "name": "stdout",
          "text": [
            "Epoch 1/10\n"
          ]
        },
        {
          "output_type": "stream",
          "name": "stderr",
          "text": [
            "/usr/local/lib/python3.10/dist-packages/tensorflow/python/framework/indexed_slices.py:446: UserWarning: Converting sparse IndexedSlices to a dense Tensor with 199439424 elements. This may consume a large amount of memory.\n",
            "  warnings.warn(\n"
          ]
        },
        {
          "output_type": "stream",
          "name": "stdout",
          "text": [
            "\u001b[1m12807/12807\u001b[0m \u001b[32m━━━━━━━━━━━━━━━━━━━━\u001b[0m\u001b[37m\u001b[0m \u001b[1m391s\u001b[0m 30ms/step - accuracy: 0.6840 - loss: 0.7224 - val_accuracy: 0.9309 - val_loss: 0.1924\n",
            "Epoch 2/10\n",
            "\u001b[1m12807/12807\u001b[0m \u001b[32m━━━━━━━━━━━━━━━━━━━━\u001b[0m\u001b[37m\u001b[0m \u001b[1m387s\u001b[0m 30ms/step - accuracy: 0.9500 - loss: 0.1431 - val_accuracy: 0.9810 - val_loss: 0.0541\n",
            "Epoch 3/10\n",
            "\u001b[1m12807/12807\u001b[0m \u001b[32m━━━━━━━━━━━━━━━━━━━━\u001b[0m\u001b[37m\u001b[0m \u001b[1m388s\u001b[0m 30ms/step - accuracy: 0.9836 - loss: 0.0477 - val_accuracy: 0.9897 - val_loss: 0.0296\n",
            "Epoch 4/10\n",
            "\u001b[1m12807/12807\u001b[0m \u001b[32m━━━━━━━━━━━━━━━━━━━━\u001b[0m\u001b[37m\u001b[0m \u001b[1m391s\u001b[0m 31ms/step - accuracy: 0.9901 - loss: 0.0288 - val_accuracy: 0.9911 - val_loss: 0.0254\n",
            "Epoch 5/10\n",
            "\u001b[1m12807/12807\u001b[0m \u001b[32m━━━━━━━━━━━━━━━━━━━━\u001b[0m\u001b[37m\u001b[0m \u001b[1m391s\u001b[0m 31ms/step - accuracy: 0.9926 - loss: 0.0217 - val_accuracy: 0.9937 - val_loss: 0.0180\n",
            "Epoch 6/10\n",
            "\u001b[1m12807/12807\u001b[0m \u001b[32m━━━━━━━━━━━━━━━━━━━━\u001b[0m\u001b[37m\u001b[0m \u001b[1m387s\u001b[0m 30ms/step - accuracy: 0.9938 - loss: 0.0181 - val_accuracy: 0.9947 - val_loss: 0.0149\n",
            "Epoch 7/10\n",
            "\u001b[1m12807/12807\u001b[0m \u001b[32m━━━━━━━━━━━━━━━━━━━━\u001b[0m\u001b[37m\u001b[0m \u001b[1m388s\u001b[0m 30ms/step - accuracy: 0.9948 - loss: 0.0152 - val_accuracy: 0.9948 - val_loss: 0.0148\n",
            "Epoch 8/10\n",
            "\u001b[1m12807/12807\u001b[0m \u001b[32m━━━━━━━━━━━━━━━━━━━━\u001b[0m\u001b[37m\u001b[0m \u001b[1m387s\u001b[0m 30ms/step - accuracy: 0.9952 - loss: 0.0139 - val_accuracy: 0.9959 - val_loss: 0.0114\n",
            "Epoch 9/10\n",
            "\u001b[1m12807/12807\u001b[0m \u001b[32m━━━━━━━━━━━━━━━━━━━━\u001b[0m\u001b[37m\u001b[0m \u001b[1m387s\u001b[0m 30ms/step - accuracy: 0.9957 - loss: 0.0125 - val_accuracy: 0.9959 - val_loss: 0.0114\n",
            "Epoch 10/10\n",
            "\u001b[1m12807/12807\u001b[0m \u001b[32m━━━━━━━━━━━━━━━━━━━━\u001b[0m\u001b[37m\u001b[0m \u001b[1m388s\u001b[0m 30ms/step - accuracy: 0.9960 - loss: 0.0116 - val_accuracy: 0.9955 - val_loss: 0.0129\n",
            "\u001b[1m21954/21954\u001b[0m \u001b[32m━━━━━━━━━━━━━━━━━━━━\u001b[0m\u001b[37m\u001b[0m \u001b[1m94s\u001b[0m 4ms/step - accuracy: 0.9952 - loss: 0.0137\n",
            "Test accuracy: 0.995276927947998\n",
            "Test loss: 0.013593818992376328\n"
          ]
        }
      ],
      "source": [
        "history = lstm_classification.train_evaluate_model(epochs=10, batch_size=256)"
      ]
    },
    {
      "cell_type": "code",
      "execution_count": 40,
      "id": "91b6d9ba-39f8-428d-948e-3b273e21ea30",
      "metadata": {
        "colab": {
          "base_uri": "https://localhost:8080/",
          "height": 718
        },
        "id": "91b6d9ba-39f8-428d-948e-3b273e21ea30",
        "scrolled": true,
        "outputId": "83d66667-e1b9-45d6-9706-f6c900b64d39"
      },
      "outputs": [
        {
          "output_type": "display_data",
          "data": {
            "text/plain": [
              "<Figure size 1200x800 with 1 Axes>"
            ],
            "image/png": "[encoded data removed]"
          },
          "metadata": {}
        }
      ],
      "source": [
        "lstm_classification.plot_results(history)"
      ]
    },
    {
      "cell_type": "markdown",
      "id": "5a9bef81-4ba2-43d9-9213-45f28beb1003",
      "metadata": {
        "id": "5a9bef81-4ba2-43d9-9213-45f28beb1003"
      },
      "source": [
        "## LSTM 2 Model Evaluation"
      ]
    },
    {
      "cell_type": "code",
      "execution_count": 41,
      "id": "44d2d8aa-7871-4293-aadb-fdf316b42157",
      "metadata": {
        "id": "44d2d8aa-7871-4293-aadb-fdf316b42157",
        "scrolled": true
      },
      "outputs": [],
      "source": [
        "predictions = lstm_classification.evaluate_unseen_dataset()"
      ]
    },
    {
      "cell_type": "code",
      "execution_count": 42,
      "id": "dc3cd480-0878-4d3b-ab60-3d0b86e5ac72",
      "metadata": {
        "colab": {
          "base_uri": "https://localhost:8080/",
          "height": 763
        },
        "id": "dc3cd480-0878-4d3b-ab60-3d0b86e5ac72",
        "scrolled": true,
        "outputId": "456123ed-a818-4cb1-9d5e-3c525e5118dc"
      },
      "outputs": [
        {
          "output_type": "stream",
          "name": "stdout",
          "text": [
            "              precision    recall  f1-score   support\n",
            "\n",
            "           0       0.97      0.91      0.94        75\n",
            "           1       0.84      0.92      0.88        62\n",
            "           2       0.97      1.00      0.99        70\n",
            "           3       0.94      0.90      0.92        72\n",
            "\n",
            "    accuracy                           0.93       279\n",
            "   macro avg       0.93      0.93      0.93       279\n",
            "weighted avg       0.93      0.93      0.93       279\n",
            "\n"
          ]
        },
        {
          "output_type": "display_data",
          "data": {
            "text/plain": [
              "<Figure size 800x600 with 2 Axes>"
            ],
            "image/png": "[encoded data removed]"
          },
          "metadata": {}
        }
      ],
      "source": [
        "lstm_classification.generate_report(predictions)"
      ]
    },
    {
      "cell_type": "markdown",
      "id": "fd53ed46-f481-44ed-a25e-017eae24cff6",
      "metadata": {
        "id": "fd53ed46-f481-44ed-a25e-017eae24cff6"
      },
      "source": [
        "## LSTM 2 test"
      ]
    },
    {
      "cell_type": "code",
      "execution_count": 43,
      "id": "d6be0dec-d61e-441a-8b36-4b3bacd630ca",
      "metadata": {
        "id": "d6be0dec-d61e-441a-8b36-4b3bacd630ca"
      },
      "outputs": [],
      "source": [
        "#lstm_classification.test_predict(midi_index=0)"
      ]
    },
    {
      "cell_type": "code",
      "execution_count": 43,
      "id": "239225b9-e648-4044-8b61-3fa5d7aee79f",
      "metadata": {
        "id": "239225b9-e648-4044-8b61-3fa5d7aee79f"
      },
      "outputs": [],
      "source": []
    },
    {
      "cell_type": "code",
      "execution_count": 43,
      "id": "a0c7c0dd-2c5b-45a3-98ba-9d235f5767a6",
      "metadata": {
        "id": "a0c7c0dd-2c5b-45a3-98ba-9d235f5767a6"
      },
      "outputs": [],
      "source": []
    },
    {
      "cell_type": "code",
      "execution_count": 43,
      "id": "366ad2bd-a8d3-4207-8528-37ab0b0533b7",
      "metadata": {
        "id": "366ad2bd-a8d3-4207-8528-37ab0b0533b7"
      },
      "outputs": [],
      "source": []
    },
    {
      "cell_type": "markdown",
      "id": "f6a82187-797b-48b0-a806-df77cd020e2d",
      "metadata": {
        "id": "f6a82187-797b-48b0-a806-df77cd020e2d"
      },
      "source": [
        "## LSTM 2  Model Optimization:\n",
        "\n",
        "Optimize the deep learning model by fine-tuning hyperparameters on full dataset.\n",
        "\n",
        "Batch_Size Num_Epochs  Test accuracy\n",
        "\n",
        "512           10          88%\n",
        "\n",
        "256           10          92%\n",
        "                   precision    recall  f1-score   support\n",
        "\n",
        "           0       1.00      0.79      0.89        68\n",
        "           1       0.86      0.95      0.91        66\n",
        "           2       1.00      1.00      1.00        69\n",
        "           3       0.84      0.92      0.88        75\n",
        "\n",
        "\n",
        "\n",
        "128           10          85%\n"
      ]
    },
    {
      "cell_type": "markdown",
      "id": "d8b174aa-e847-48d5-8e4b-84c17f019bf4",
      "metadata": {
        "id": "d8b174aa-e847-48d5-8e4b-84c17f019bf4"
      },
      "source": [
        "# Conclusion"
      ]
    },
    {
      "cell_type": "markdown",
      "id": "c76d6c6d-9387-476e-b806-b53d6068ac51",
      "metadata": {
        "id": "c76d6c6d-9387-476e-b806-b53d6068ac51"
      },
      "source": [
        "# Future EnhancementsConclusion"
      ]
    },
    {
      "cell_type": "markdown",
      "id": "30712cb9-00c1-428e-a8e7-8a1bb085255d",
      "metadata": {
        "id": "30712cb9-00c1-428e-a8e7-8a1bb085255d"
      },
      "source": [
        "#  References"
      ]
    },
    {
      "cell_type": "code",
      "execution_count": 44,
      "id": "0f30527a-b09a-4721-85ea-47000747dac3",
      "metadata": {
        "colab": {
          "base_uri": "https://localhost:8080/",
          "height": 109
        },
        "id": "0f30527a-b09a-4721-85ea-47000747dac3",
        "outputId": "d1b401f3-b6b6-4fb0-c00e-8d8b8c614072"
      },
      "outputs": [
        {
          "output_type": "error",
          "ename": "SyntaxError",
          "evalue": "(unicode error) 'unicodeescape' codec can't decode bytes in position 1664-1665: truncated \\uXXXX escape (<ipython-input-44-9590273692f9>, line 29)",
          "traceback": [
            "\u001b[0;36m  File \u001b[0;32m\"<ipython-input-44-9590273692f9>\"\u001b[0;36m, line \u001b[0;32m29\u001b[0m\n\u001b[0;31m    \"\"\"\u001b[0m\n\u001b[0m       ^\u001b[0m\n\u001b[0;31mSyntaxError\u001b[0m\u001b[0;31m:\u001b[0m (unicode error) 'unicodeescape' codec can't decode bytes in position 1664-1665: truncated \\uXXXX escape\n"
          ]
        }
      ],
      "source": [
        "\"\"\"\n",
        "# Generate pdf colab\n",
        "def colab2pdf():\n",
        "    # Colab2PDF by Drengskapur (https://github.com/drengskapur/colab2pdf)\n",
        "    # @title Convert Colab Notebook to PDF {display-mode:'form'}\n",
        "    # VERSION 1.3\n",
        "    # LICENSE: GPL-3.0-or-later\n",
        "    !apt-get install -yqq --no-install-recommends librsvg2-bin>/dev/null\n",
        "    import contextlib,datetime,google,io,IPython,ipywidgets,json,locale,nbformat,os,pathlib,requests,urllib,warnings,werkzeug,yaml;locale.setlocale(locale.LC_ALL,'en_US.UTF-8')\n",
        "    def convert(b):\n",
        "        try:\n",
        "            s.value='⚙️ Converting...';b.disabled=True;get_ipython().events.register('post_execute',lambda:IPython.display.display(IPython.display.Javascript('document.querySelectorAll(\"#output-footer\").forEach(footer=>footer.remove());')))\n",
        "            n=pathlib.Path(werkzeug.utils.secure_filename(urllib.parse.unquote(requests.get(f'http://{os.environ[\"COLAB_JUPYTER_IP\"]}:{os.environ[\"KMP_TARGET_PORT\"]}/api/sessions').json()[0]['name'])))\n",
        "            p=pathlib.Path('/content/pdfs')/f'{datetime.datetime.now().strftime(\"%Y%m%d_%H%M%S\")}_{n.stem}';p.mkdir(parents=True,exist_ok=True);warnings.filterwarnings('ignore',category=nbformat.validator.MissingIDFieldWarning)\n",
        "            nb=[cell for cell in nbformat.reads(json.dumps(google.colab._message.blocking_request('get_ipynb',timeout_sec=600)['ipynb']),as_version=4).cells if '--Colab2PDF' not in cell.source]\n",
        "            with (p/f'{n.stem}.ipynb').open('w',encoding='utf-8') as cp:nbformat.write(nbformat.v4.new_notebook(cells=nb or [nbformat.v4.new_code_cell('#')]),cp)\n",
        "            with (p/'config.yml').open('w',encoding='utf-8') as f:yaml.dump({'include-in-header':[{'text':r'\\usepackage{fvextra}\\DefineVerbatimEnvironment{Highlighting}{Verbatim}{breaksymbolleft={},showspaces=false,showtabs=false,breaklines,breakanywhere,commandchars=\\\\\\{\\}}'}],'include-before-body':[{'text':r'\\DefineVerbatimEnvironment{verbatim}{Verbatim}{breaksymbolleft={},showspaces=false,showtabs=false,breaklines}'}]},f)\n",
        "            !quarto render {p}/{n.stem}.ipynb --metadata-file={p}/config.yml --to pdf -M latex-auto-install -M margin-top=1in -M margin-bottom=1in -M margin-left=1in -M margin-right=1in --quiet\n",
        "            google.colab.files.download(str(p/f'{n.stem}.pdf'));s.value=f'🎉 Downloaded {n.stem}.pdf'\n",
        "        except Exception as e:\n",
        "            s.value=f'⚠️ ERROR {str(e)}'\n",
        "        finally:\n",
        "            b.disabled=False\n",
        "    if not pathlib.Path('/usr/local/bin/quarto').exists():\n",
        "        !wget -q 'https://quarto.org/download/latest/quarto-linux-amd64.deb' -P {p} && dpkg -i {p}/quarto-linux-amd64.deb>/dev/null && quarto install tinytex --update-path --quiet\n",
        "    b=ipywidgets.widgets.Button(description='⬇️ Download PDF');s=ipywidgets.widgets.Label();b.on_click(lambda b:convert(b));IPython.display.display(ipywidgets.widgets.HBox([b,s]))\n",
        "    IPython.display.display(IPython.display.Javascript('document.currentScript.parentElement.closest(\".output_subarea\").querySelector(\"#output-footer > input\").remove();'))\n",
        "# colab2pdf()\n",
        "\"\"\""
      ]
    },
    {
      "cell_type": "code",
      "source": [],
      "metadata": {
        "id": "jtaHT2X_19oq"
      },
      "id": "jtaHT2X_19oq",
      "execution_count": null,
      "outputs": []
    }
  ],
  "metadata": {
    "accelerator": "GPU",
    "colab": {
      "gpuType": "A100",
      "machine_shape": "hm",
      "provenance": []
    },
    "kernelspec": {
      "display_name": "Python 3",
      "name": "python3"
    },
    "language_info": {
      "codemirror_mode": {
        "name": "ipython",
        "version": 3
      },
      "file_extension": ".py",
      "mimetype": "text/x-python",
      "name": "python",
      "nbconvert_exporter": "python",
      "pygments_lexer": "ipython3",
      "version": "3.8.19"
    }
  },
  "nbformat": 4,
  "nbformat_minor": 5
}